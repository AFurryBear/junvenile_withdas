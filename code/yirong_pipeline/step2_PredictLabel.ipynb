{
 "cells": [
  {
   "cell_type": "code",
   "execution_count": null,
   "id": "16dcaf4e",
   "metadata": {},
   "outputs": [],
   "source": [
    "!pip install das"
   ]
  },
  {
   "cell_type": "code",
   "execution_count": 1,
   "id": "641b688a",
   "metadata": {},
   "outputs": [],
   "source": [
    "import numpy as np\n",
    "from pprint import pprint\n",
    "import scipy.io.wavfile\n",
    "\n",
    "import pandas as pd\n",
    "import os\n",
    "import glob\n",
    "\n",
    "import das.predict"
   ]
  },
  {
   "cell_type": "code",
   "execution_count": 2,
   "id": "15118e93",
   "metadata": {},
   "outputs": [],
   "source": [
    "def das_predict(INPUT,model_name,out):\n",
    "    samplerate, x = scipy.io.wavfile.read(INPUT)\n",
    "    x = np.atleast_2d(x).T\n",
    "    events, segments, class_probabilities, class_names = das.predict.predict(x, \n",
    "                                                               model_save_name=model_name,\n",
    "                                                               verbose=2,\n",
    "                                                               segment_minlen=0.02,\n",
    "                                                               segment_fillgap=0.02)\n",
    "    arr1 = segments['onsets_seconds']\n",
    "    arr2 = segments['offsets_seconds']\n",
    "    arr3 = [[segments['sequence'][i]] for i in range(len(segments['sequence']))]\n",
    "    df = pd.DataFrame(np.array([np.array(arr3).flatten(),arr1,arr2]).T,columns=['name','onsets_seconds','offsets_seconds'])\n",
    "    df.columns = ['name','start_seconds','stop_seconds']\n",
    "    df_pred = df.loc[df.name!='noise']\n",
    "    path,fname = os.path.split(INPUT)\n",
    "    file,ext = os.path.splitext(fname)\n",
    "    del df,x,samplerate ## this is to clear memory. \n",
    "    df_pred.to_csv(os.path.join(out,file+'_annotations.csv'),index=False)"
   ]
  },
  {
   "cell_type": "code",
   "execution_count": 7,
   "id": "139fa812",
   "metadata": {},
   "outputs": [],
   "source": [
    "home_path = '/Volumes/RENATA_X/Vallentinlab'\n",
    "birdfolder = 'bird7159'\n",
    "channel = 'chan6'\n",
    "\n",
    "model_name = '/Volumes/RENATA_X/Vallentinlab/models/'+birdfolder+'_'+channel+'.res/20220629_103442'\n",
    "infiles = glob.glob(os.path.join(home_path,birdfolder+'_sorted',channel,'dph*_filtered_denoised_sampled.wav'))\n",
    "for infile in infiles:\n",
    "    das_predict(infile,model_name,os.path.join(home_path,birdfolder+'_sorted',channel))"
   ]
  }
 ],
 "metadata": {
  "kernelspec": {
   "display_name": "das",
   "language": "python",
   "name": "das"
  },
  "language_info": {
   "codemirror_mode": {
    "name": "ipython",
    "version": 3
   },
   "file_extension": ".py",
   "mimetype": "text/x-python",
   "name": "python",
   "nbconvert_exporter": "python",
   "pygments_lexer": "ipython3",
   "version": "3.8.12"
  }
 },
 "nbformat": 4,
 "nbformat_minor": 5
}
