{
 "cells": [
  {
   "cell_type": "code",
   "execution_count": null,
   "id": "0494b754",
   "metadata": {},
   "outputs": [],
   "source": [
    "!pip install das"
   ]
  },
  {
   "cell_type": "code",
   "execution_count": 1,
   "id": "1ba6f266",
   "metadata": {},
   "outputs": [],
   "source": [
    "import numpy as np\n",
    "from pprint import pprint\n",
    "import scipy.io.wavfile\n",
    "\n",
    "import pandas as pd\n",
    "import os\n",
    "import glob\n",
    "\n",
    "import das.predict"
   ]
  },
  {
   "cell_type": "code",
   "execution_count": null,
   "id": "0c51862c",
   "metadata": {},
   "outputs": [],
   "source": [
    "def das_predict(INPUT,model_name,out):\n",
    "    samplerate, x = scipy.io.wavfile.read(INPUT)\n",
    "    print(f\"DAS requires [T, channels], but single-channel wave files are loaded with shape [T,] (data shape is {x.shape}).\")\n",
    "    x = np.atleast_2d(x).T\n",
    "    events, segments, class_probabilities, class_names = das.predict.predict(x, \n",
    "                                                               model_save_name=model_name,\n",
    "                                                               verbose=2,\n",
    "                                                               segment_minlen=0.02,\n",
    "                                                               segment_fillgap=0.02)\n",
    "    arr1 = segments['onsets_seconds']\n",
    "    arr2 = segments['offsets_seconds']\n",
    "    arr3 = [[segments['sequence'][i]] for i in range(len(segments['sequence']))]\n",
    "    df = pd.DataFrame(np.array([np.array(arr3).flatten(),arr1,arr2]).T,columns=['name','onsets_seconds','offsets_seconds'])\n",
    "    df.columns = ['name','start_seconds','stop_seconds']\n",
    "    df_pred = df.loc[df.name!='noise']\n",
    "    path,fname = os.path.split(INPUT)\n",
    "    file,ext = os.path.splitext(fname)\n",
    "    del df,x,samplerate ## this is to clear memory. \n",
    "    df_pred.to_csv(out+'/'+file+'_annotations.csv',index=False)"
   ]
  },
  {
   "cell_type": "code",
   "execution_count": null,
   "id": "294ca45e",
   "metadata": {},
   "outputs": [],
   "source": [
    "model_name = '/Volumes/Yirong_work/Vallentinlab/bird7054_sorted/chan0.res/20220823_195859'\n",
    "infiles = glob.glob('/Volumes/Yirong_work/Vallentinlab/bird7054_sorted/chan0/dph*_filter_denoised_test_sample.wav')\n",
    "for infile in infiles:\n",
    "    das_predict(infile,model_name,'/Volumes/Yirong_work/Vallentinlab/bird7054_sorted/chan0/')"
   ]
  }
 ],
 "metadata": {
  "kernelspec": {
   "display_name": "das",
   "language": "python",
   "name": "das"
  },
  "language_info": {
   "codemirror_mode": {
    "name": "ipython",
    "version": 3
   },
   "file_extension": ".py",
   "mimetype": "text/x-python",
   "name": "python",
   "nbconvert_exporter": "python",
   "pygments_lexer": "ipython3",
   "version": "3.8.12"
  }
 },
 "nbformat": 4,
 "nbformat_minor": 5
}
