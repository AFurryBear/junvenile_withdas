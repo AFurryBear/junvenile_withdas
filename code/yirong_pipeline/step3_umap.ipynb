{
 "cells": [
  {
   "cell_type": "code",
   "execution_count": null,
   "id": "7cafb35e",
   "metadata": {},
   "outputs": [],
   "source": [
    "!pip install hdbscan\n",
    "!pip install librosa\n",
    "!pip install das_unsupervised"
   ]
  },
  {
   "cell_type": "code",
   "execution_count": 9,
   "id": "5ab8a420",
   "metadata": {},
   "outputs": [],
   "source": [
    "import numpy as np\n",
    "import sklearn\n",
    "import matplotlib.pyplot as plt\n",
    "import librosa.feature\n",
    "import librosa.display\n",
    "from matplotlib.colors import ListedColormap\n",
    "import sklearn.metrics\n",
    "import scipy.stats\n",
    "import hdbscan\n",
    "import umap\n",
    "import pandas as pd\n",
    "import scipy.io.wavfile\n",
    "import glob\n",
    "import os\n",
    "import das_unsupervised.spec_utils\n",
    "import argparse"
   ]
  },
  {
   "cell_type": "code",
   "execution_count": 10,
   "id": "9049675f",
   "metadata": {},
   "outputs": [
    {
     "name": "stdout",
     "output_type": "stream",
     "text": [
      "67\n"
     ]
    }
   ],
   "source": [
    "home_path = '/Volumes/RENATA_X/Vallentinlab'\n",
    "birdfolder = 'bird7159'\n",
    "channel = 'chan6'\n",
    "\n",
    "### !!! these csv file should start with dph+day, e.g, dph100\n",
    "\n",
    "args = {'inPath':os.path.join(home_path,birdfolder+'_sorted',channel,'dph'),'fileType':'csv'}\n",
    "file_list = sorted(glob.glob(args['inPath']+'*_filtered_denoised_sampled*.'+args['fileType']))\n",
    "specs = []\n",
    "amps = []\n",
    "types = []\n",
    "durations = []\n",
    "print(len(file_list))"
   ]
  },
  {
   "cell_type": "code",
   "execution_count": null,
   "id": "e33cb7a7",
   "metadata": {},
   "outputs": [],
   "source": []
  },
  {
   "cell_type": "code",
   "execution_count": 16,
   "id": "6115ce5f",
   "metadata": {},
   "outputs": [
    {
     "name": "stdout",
     "output_type": "stream",
     "text": [
      "3 annotated syllables.\n",
      "19 annotated syllables.\n",
      "6 annotated syllables.\n",
      "36 annotated syllables.\n",
      "18 annotated syllables.\n",
      "44 annotated syllables.\n",
      "9 annotated syllables.\n",
      "72 annotated syllables.\n",
      "104 annotated syllables.\n",
      "172 annotated syllables.\n",
      "178 annotated syllables.\n",
      "119 annotated syllables.\n",
      "43 annotated syllables.\n",
      "156 annotated syllables.\n",
      "146 annotated syllables.\n",
      "199 annotated syllables.\n",
      "126 annotated syllables.\n",
      "126 annotated syllables.\n",
      "139 annotated syllables.\n",
      "170 annotated syllables.\n",
      "123 annotated syllables.\n",
      "64 annotated syllables.\n",
      "168 annotated syllables.\n",
      "169 annotated syllables.\n",
      "131 annotated syllables.\n",
      "113 annotated syllables.\n",
      "141 annotated syllables.\n",
      "138 annotated syllables.\n",
      "0 annotated syllables.\n",
      "129 annotated syllables.\n",
      "153 annotated syllables.\n",
      "102 annotated syllables.\n",
      "121 annotated syllables.\n",
      "121 annotated syllables.\n",
      "129 annotated syllables.\n",
      "3 annotated syllables.\n",
      "104 annotated syllables.\n",
      "131 annotated syllables.\n",
      "124 annotated syllables.\n",
      "67 annotated syllables.\n",
      "149 annotated syllables.\n",
      "121 annotated syllables.\n",
      "121 annotated syllables.\n",
      "125 annotated syllables.\n",
      "96 annotated syllables.\n",
      "98 annotated syllables.\n",
      "95 annotated syllables.\n",
      "66 annotated syllables.\n",
      "98 annotated syllables.\n",
      "36 annotated syllables.\n",
      "95 annotated syllables.\n",
      "92 annotated syllables.\n",
      "108 annotated syllables.\n",
      "64 annotated syllables.\n",
      "77 annotated syllables.\n",
      "77 annotated syllables.\n",
      "50 annotated syllables.\n",
      "41 annotated syllables.\n",
      "98 annotated syllables.\n",
      "75 annotated syllables.\n",
      "86 annotated syllables.\n",
      "43 annotated syllables.\n",
      "66 annotated syllables.\n",
      "68 annotated syllables.\n",
      "65 annotated syllables.\n",
      "76 annotated syllables.\n",
      "44 annotated syllables.\n"
     ]
    }
   ],
   "source": [
    "# these parameters allow you to select a specific frequency range and to threshold noise\n",
    "# optimize them by visually inspecting the plotted spectrograms below this cell\n",
    "freq_min_idx = 4\n",
    "freq_max_idx = -1\n",
    "freq_step_idx = 2\n",
    "amplitude_thres = 2\n",
    "day_label = np.empty((0,))\n",
    "\n",
    "last_label = 0\n",
    "\n",
    "for csv_file in file_list:\n",
    "    annotations = pd.read_csv(csv_file)\n",
    "    fname = os.path.split(csv_file)[1]\n",
    "    syllables = annotations.loc[annotations.name==4]##syllables = annotations.loc[annotations.name=='syllable']\n",
    "    print(f\"{len(syllables)} annotated syllables.\")\n",
    "    day_index = int(os.path.split(os.path.splitext(fname)[0])[-1][3:6])\n",
    "    day_label = np.concatenate((day_label,np.repeat(day_index,len(syllables))))\n",
    "    last_label = last_label+len(syllables)\n",
    "    del annotations"
   ]
  },
  {
   "cell_type": "code",
   "execution_count": 18,
   "id": "a95a3a38",
   "metadata": {},
   "outputs": [
    {
     "name": "stdout",
     "output_type": "stream",
     "text": [
      "/Volumes/RENATA_X/Vallentinlab/bird7159_sorted/chan6/dph033_filtered_denoised_sampled.wav\n",
      "7200000 samples at 40000 Hz.\n",
      "3 annotated syllables.\n"
     ]
    },
    {
     "name": "stderr",
     "output_type": "stream",
     "text": [
      "/var/folders/4g/xkgvwyyx62l00dd1sldy15tr0000gn/T/ipykernel_67663/3780661307.py:17: FutureWarning: Pass y=[ 6.  8.  8. ... -2. -2. -2.] as keyword args. From version 0.10 passing these as positional arguments will result in an error\n",
      "  specgram = librosa.feature.melspectrogram(x, sr=fs, n_fft=win_length, hop_length=hop_length, power=2)\n",
      "/var/folders/4g/xkgvwyyx62l00dd1sldy15tr0000gn/T/ipykernel_67663/3780661307.py:26: RuntimeWarning: divide by zero encountered in true_divide\n",
      "  tmp = np.log2(specgram[:, int(onsets/hop_length):int(offsets/hop_length)] / sm[:, np.newaxis])\n",
      "/Users/yirongx/opt/miniconda3/envs/das/lib/python3.8/site-packages/numpy/core/_methods.py:232: RuntimeWarning: invalid value encountered in subtract\n",
      "  x = asanyarray(arr - arrmean)\n"
     ]
    },
    {
     "name": "stdout",
     "output_type": "stream",
     "text": [
      "Got 3 syllables.\n",
      "5070752.0\n",
      "/Volumes/RENATA_X/Vallentinlab/bird7159_sorted/chan6/dph034_filtered_denoised_sampled.wav\n",
      "7200000 samples at 40000 Hz.\n",
      "19 annotated syllables.\n"
     ]
    },
    {
     "name": "stderr",
     "output_type": "stream",
     "text": [
      "/var/folders/4g/xkgvwyyx62l00dd1sldy15tr0000gn/T/ipykernel_67663/3780661307.py:17: FutureWarning: Pass y=[295. 247. 152. ...   0.   0.   0.] as keyword args. From version 0.10 passing these as positional arguments will result in an error\n",
      "  specgram = librosa.feature.melspectrogram(x, sr=fs, n_fft=win_length, hop_length=hop_length, power=2)\n",
      "/var/folders/4g/xkgvwyyx62l00dd1sldy15tr0000gn/T/ipykernel_67663/3780661307.py:26: RuntimeWarning: divide by zero encountered in true_divide\n",
      "  tmp = np.log2(specgram[:, int(onsets/hop_length):int(offsets/hop_length)] / sm[:, np.newaxis])\n",
      "/Users/yirongx/opt/miniconda3/envs/das/lib/python3.8/site-packages/numpy/core/_methods.py:232: RuntimeWarning: invalid value encountered in subtract\n",
      "  x = asanyarray(arr - arrmean)\n"
     ]
    },
    {
     "name": "stdout",
     "output_type": "stream",
     "text": [
      "Got 22 syllables.\n",
      "6058816.000000001\n",
      "/Volumes/RENATA_X/Vallentinlab/bird7159_sorted/chan6/dph035_filtered_denoised_sampled.wav\n",
      "7200000 samples at 40000 Hz.\n",
      "6 annotated syllables.\n"
     ]
    },
    {
     "name": "stderr",
     "output_type": "stream",
     "text": [
      "/var/folders/4g/xkgvwyyx62l00dd1sldy15tr0000gn/T/ipykernel_67663/3780661307.py:17: FutureWarning: Pass y=[-590. -474. -385. ... 1295. 1261.  761.] as keyword args. From version 0.10 passing these as positional arguments will result in an error\n",
      "  specgram = librosa.feature.melspectrogram(x, sr=fs, n_fft=win_length, hop_length=hop_length, power=2)\n",
      "/var/folders/4g/xkgvwyyx62l00dd1sldy15tr0000gn/T/ipykernel_67663/3780661307.py:26: RuntimeWarning: divide by zero encountered in true_divide\n",
      "  tmp = np.log2(specgram[:, int(onsets/hop_length):int(offsets/hop_length)] / sm[:, np.newaxis])\n",
      "/Users/yirongx/opt/miniconda3/envs/das/lib/python3.8/site-packages/numpy/core/_methods.py:232: RuntimeWarning: invalid value encountered in subtract\n",
      "  x = asanyarray(arr - arrmean)\n"
     ]
    },
    {
     "name": "stdout",
     "output_type": "stream",
     "text": [
      "Got 28 syllables.\n",
      "5793600.0\n",
      "/Volumes/RENATA_X/Vallentinlab/bird7159_sorted/chan6/dph036_filtered_denoised_sampled.wav\n",
      "7200000 samples at 40000 Hz.\n",
      "36 annotated syllables.\n"
     ]
    },
    {
     "name": "stderr",
     "output_type": "stream",
     "text": [
      "/var/folders/4g/xkgvwyyx62l00dd1sldy15tr0000gn/T/ipykernel_67663/3780661307.py:17: FutureWarning: Pass y=[136. 150.  97. ...  -2. -14.  -9.] as keyword args. From version 0.10 passing these as positional arguments will result in an error\n",
      "  specgram = librosa.feature.melspectrogram(x, sr=fs, n_fft=win_length, hop_length=hop_length, power=2)\n",
      "/var/folders/4g/xkgvwyyx62l00dd1sldy15tr0000gn/T/ipykernel_67663/3780661307.py:26: RuntimeWarning: divide by zero encountered in true_divide\n",
      "  tmp = np.log2(specgram[:, int(onsets/hop_length):int(offsets/hop_length)] / sm[:, np.newaxis])\n",
      "/Users/yirongx/opt/miniconda3/envs/das/lib/python3.8/site-packages/numpy/core/_methods.py:232: RuntimeWarning: invalid value encountered in subtract\n",
      "  x = asanyarray(arr - arrmean)\n"
     ]
    },
    {
     "name": "stdout",
     "output_type": "stream",
     "text": [
      "Got 64 syllables.\n",
      "7161008.000000001\n",
      "/Volumes/RENATA_X/Vallentinlab/bird7159_sorted/chan6/dph037_filtered_denoised_sampled.wav\n",
      "7200000 samples at 40000 Hz.\n",
      "18 annotated syllables.\n"
     ]
    },
    {
     "name": "stderr",
     "output_type": "stream",
     "text": [
      "/var/folders/4g/xkgvwyyx62l00dd1sldy15tr0000gn/T/ipykernel_67663/3780661307.py:17: FutureWarning: Pass y=[-1584. -1334.  -919. ...     0.     0.     0.] as keyword args. From version 0.10 passing these as positional arguments will result in an error\n",
      "  specgram = librosa.feature.melspectrogram(x, sr=fs, n_fft=win_length, hop_length=hop_length, power=2)\n",
      "/var/folders/4g/xkgvwyyx62l00dd1sldy15tr0000gn/T/ipykernel_67663/3780661307.py:26: RuntimeWarning: divide by zero encountered in true_divide\n",
      "  tmp = np.log2(specgram[:, int(onsets/hop_length):int(offsets/hop_length)] / sm[:, np.newaxis])\n",
      "/Users/yirongx/opt/miniconda3/envs/das/lib/python3.8/site-packages/numpy/core/_methods.py:232: RuntimeWarning: invalid value encountered in subtract\n",
      "  x = asanyarray(arr - arrmean)\n"
     ]
    },
    {
     "name": "stdout",
     "output_type": "stream",
     "text": [
      "Got 82 syllables.\n",
      "6853568.0\n",
      "/Volumes/RENATA_X/Vallentinlab/bird7159_sorted/chan6/dph038_filtered_denoised_sampled.wav\n",
      "7200000 samples at 40000 Hz.\n",
      "44 annotated syllables.\n"
     ]
    },
    {
     "name": "stderr",
     "output_type": "stream",
     "text": [
      "/var/folders/4g/xkgvwyyx62l00dd1sldy15tr0000gn/T/ipykernel_67663/3780661307.py:17: FutureWarning: Pass y=[-108.  -73.  -26. ...    0.    0.    0.] as keyword args. From version 0.10 passing these as positional arguments will result in an error\n",
      "  specgram = librosa.feature.melspectrogram(x, sr=fs, n_fft=win_length, hop_length=hop_length, power=2)\n"
     ]
    },
    {
     "name": "stdout",
     "output_type": "stream",
     "text": [
      "Got 126 syllables.\n",
      "7125296.0\n",
      "/Volumes/RENATA_X/Vallentinlab/bird7159_sorted/chan6/dph040_filtered_denoised_sampled.wav\n",
      "2999995 samples at 40000 Hz.\n",
      "9 annotated syllables.\n"
     ]
    },
    {
     "name": "stderr",
     "output_type": "stream",
     "text": [
      "/var/folders/4g/xkgvwyyx62l00dd1sldy15tr0000gn/T/ipykernel_67663/3780661307.py:17: FutureWarning: Pass y=[-198. -159.  -80. ...    0.    0.    0.] as keyword args. From version 0.10 passing these as positional arguments will result in an error\n",
      "  specgram = librosa.feature.melspectrogram(x, sr=fs, n_fft=win_length, hop_length=hop_length, power=2)\n",
      "/var/folders/4g/xkgvwyyx62l00dd1sldy15tr0000gn/T/ipykernel_67663/3780661307.py:26: RuntimeWarning: divide by zero encountered in true_divide\n",
      "  tmp = np.log2(specgram[:, int(onsets/hop_length):int(offsets/hop_length)] / sm[:, np.newaxis])\n",
      "/Users/yirongx/opt/miniconda3/envs/das/lib/python3.8/site-packages/numpy/core/_methods.py:232: RuntimeWarning: invalid value encountered in subtract\n",
      "  x = asanyarray(arr - arrmean)\n"
     ]
    },
    {
     "name": "stdout",
     "output_type": "stream",
     "text": [
      "Got 135 syllables.\n",
      "2159424.0\n",
      "/Volumes/RENATA_X/Vallentinlab/bird7159_sorted/chan6/dph041_filtered_denoised_sampled.wav\n",
      "7200000 samples at 40000 Hz.\n",
      "72 annotated syllables.\n"
     ]
    },
    {
     "name": "stderr",
     "output_type": "stream",
     "text": [
      "/var/folders/4g/xkgvwyyx62l00dd1sldy15tr0000gn/T/ipykernel_67663/3780661307.py:17: FutureWarning: Pass y=[-168. -115.  -69. ...    0.    0.    0.] as keyword args. From version 0.10 passing these as positional arguments will result in an error\n",
      "  specgram = librosa.feature.melspectrogram(x, sr=fs, n_fft=win_length, hop_length=hop_length, power=2)\n"
     ]
    },
    {
     "name": "stdout",
     "output_type": "stream",
     "text": [
      "Got 207 syllables.\n",
      "7024704.0\n",
      "/Volumes/RENATA_X/Vallentinlab/bird7159_sorted/chan6/dph043_filtered_denoised_sampled.wav\n",
      "7200000 samples at 40000 Hz.\n",
      "104 annotated syllables.\n"
     ]
    },
    {
     "name": "stderr",
     "output_type": "stream",
     "text": [
      "/var/folders/4g/xkgvwyyx62l00dd1sldy15tr0000gn/T/ipykernel_67663/3780661307.py:17: FutureWarning: Pass y=[-107.  -69.  -52. ...   -6.   -2.   10.] as keyword args. From version 0.10 passing these as positional arguments will result in an error\n",
      "  specgram = librosa.feature.melspectrogram(x, sr=fs, n_fft=win_length, hop_length=hop_length, power=2)\n"
     ]
    },
    {
     "name": "stdout",
     "output_type": "stream",
     "text": [
      "Got 311 syllables.\n",
      "7184192.0\n",
      "/Volumes/RENATA_X/Vallentinlab/bird7159_sorted/chan6/dph044_filtered_denoised_sampled.wav\n",
      "7200000 samples at 40000 Hz.\n",
      "172 annotated syllables.\n"
     ]
    },
    {
     "name": "stderr",
     "output_type": "stream",
     "text": [
      "/var/folders/4g/xkgvwyyx62l00dd1sldy15tr0000gn/T/ipykernel_67663/3780661307.py:17: FutureWarning: Pass y=[93. 54. 13. ... -6.  0.  3.] as keyword args. From version 0.10 passing these as positional arguments will result in an error\n",
      "  specgram = librosa.feature.melspectrogram(x, sr=fs, n_fft=win_length, hop_length=hop_length, power=2)\n"
     ]
    },
    {
     "name": "stdout",
     "output_type": "stream",
     "text": [
      "Got 483 syllables.\n",
      "7139920.0\n",
      "/Volumes/RENATA_X/Vallentinlab/bird7159_sorted/chan6/dph045_filtered_denoised_sampled.wav\n",
      "7200000 samples at 40000 Hz.\n",
      "178 annotated syllables.\n"
     ]
    },
    {
     "name": "stderr",
     "output_type": "stream",
     "text": [
      "/var/folders/4g/xkgvwyyx62l00dd1sldy15tr0000gn/T/ipykernel_67663/3780661307.py:17: FutureWarning: Pass y=[  -1.    5.   -1. ...  133. -117. -320.] as keyword args. From version 0.10 passing these as positional arguments will result in an error\n",
      "  specgram = librosa.feature.melspectrogram(x, sr=fs, n_fft=win_length, hop_length=hop_length, power=2)\n"
     ]
    },
    {
     "name": "stdout",
     "output_type": "stream",
     "text": [
      "Got 661 syllables.\n",
      "7051056.0\n",
      "/Volumes/RENATA_X/Vallentinlab/bird7159_sorted/chan6/dph046_filtered_denoised_sampled.wav\n",
      "7200000 samples at 40000 Hz.\n",
      "119 annotated syllables.\n"
     ]
    },
    {
     "name": "stderr",
     "output_type": "stream",
     "text": [
      "/var/folders/4g/xkgvwyyx62l00dd1sldy15tr0000gn/T/ipykernel_67663/3780661307.py:17: FutureWarning: Pass y=[393. 303. 240. ...   0.   0.   0.] as keyword args. From version 0.10 passing these as positional arguments will result in an error\n",
      "  specgram = librosa.feature.melspectrogram(x, sr=fs, n_fft=win_length, hop_length=hop_length, power=2)\n"
     ]
    },
    {
     "name": "stdout",
     "output_type": "stream",
     "text": [
      "Got 780 syllables.\n",
      "6944127.999999999\n",
      "/Volumes/RENATA_X/Vallentinlab/bird7159_sorted/chan6/dph047_filtered_denoised_sampled.wav\n",
      "7200000 samples at 40000 Hz.\n",
      "43 annotated syllables.\n"
     ]
    },
    {
     "name": "stderr",
     "output_type": "stream",
     "text": [
      "/var/folders/4g/xkgvwyyx62l00dd1sldy15tr0000gn/T/ipykernel_67663/3780661307.py:17: FutureWarning: Pass y=[83. 58. 43. ...  0.  0.  0.] as keyword args. From version 0.10 passing these as positional arguments will result in an error\n",
      "  specgram = librosa.feature.melspectrogram(x, sr=fs, n_fft=win_length, hop_length=hop_length, power=2)\n",
      "/var/folders/4g/xkgvwyyx62l00dd1sldy15tr0000gn/T/ipykernel_67663/3780661307.py:26: RuntimeWarning: divide by zero encountered in true_divide\n",
      "  tmp = np.log2(specgram[:, int(onsets/hop_length):int(offsets/hop_length)] / sm[:, np.newaxis])\n",
      "/Users/yirongx/opt/miniconda3/envs/das/lib/python3.8/site-packages/numpy/core/_methods.py:232: RuntimeWarning: invalid value encountered in subtract\n",
      "  x = asanyarray(arr - arrmean)\n"
     ]
    },
    {
     "name": "stdout",
     "output_type": "stream",
     "text": [
      "Got 823 syllables.\n",
      "7106000.0\n",
      "/Volumes/RENATA_X/Vallentinlab/bird7159_sorted/chan6/dph048_filtered_denoised_sampled.wav\n",
      "7200000 samples at 40000 Hz.\n",
      "156 annotated syllables.\n"
     ]
    },
    {
     "name": "stderr",
     "output_type": "stream",
     "text": [
      "/var/folders/4g/xkgvwyyx62l00dd1sldy15tr0000gn/T/ipykernel_67663/3780661307.py:17: FutureWarning: Pass y=[-396. -428. -268. ...    0.    0.    0.] as keyword args. From version 0.10 passing these as positional arguments will result in an error\n",
      "  specgram = librosa.feature.melspectrogram(x, sr=fs, n_fft=win_length, hop_length=hop_length, power=2)\n"
     ]
    },
    {
     "name": "stdout",
     "output_type": "stream",
     "text": [
      "Got 979 syllables.\n",
      "6996928.0\n",
      "/Volumes/RENATA_X/Vallentinlab/bird7159_sorted/chan6/dph049_filtered_denoised_sampled.wav\n",
      "7200000 samples at 40000 Hz.\n",
      "146 annotated syllables.\n"
     ]
    },
    {
     "name": "stderr",
     "output_type": "stream",
     "text": [
      "/var/folders/4g/xkgvwyyx62l00dd1sldy15tr0000gn/T/ipykernel_67663/3780661307.py:17: FutureWarning: Pass y=[970. 767. 622. ...   0.   0.   0.] as keyword args. From version 0.10 passing these as positional arguments will result in an error\n",
      "  specgram = librosa.feature.melspectrogram(x, sr=fs, n_fft=win_length, hop_length=hop_length, power=2)\n"
     ]
    },
    {
     "name": "stdout",
     "output_type": "stream",
     "text": [
      "Got 1125 syllables.\n",
      "7168064.000000001\n",
      "/Volumes/RENATA_X/Vallentinlab/bird7159_sorted/chan6/dph050_filtered_denoised_sampled.wav\n",
      "7200000 samples at 40000 Hz.\n",
      "199 annotated syllables.\n"
     ]
    },
    {
     "name": "stderr",
     "output_type": "stream",
     "text": [
      "/var/folders/4g/xkgvwyyx62l00dd1sldy15tr0000gn/T/ipykernel_67663/3780661307.py:17: FutureWarning: Pass y=[-1.375e+03 -1.175e+03 -9.510e+02 ... -1.000e+00  0.000e+00 -2.000e+00] as keyword args. From version 0.10 passing these as positional arguments will result in an error\n",
      "  specgram = librosa.feature.melspectrogram(x, sr=fs, n_fft=win_length, hop_length=hop_length, power=2)\n"
     ]
    },
    {
     "name": "stdout",
     "output_type": "stream",
     "text": [
      "Got 1324 syllables.\n",
      "7126079.999999999\n",
      "/Volumes/RENATA_X/Vallentinlab/bird7159_sorted/chan6/dph051_filtered_denoised_sampled.wav\n",
      "7200000 samples at 40000 Hz.\n",
      "126 annotated syllables.\n"
     ]
    },
    {
     "name": "stderr",
     "output_type": "stream",
     "text": [
      "/var/folders/4g/xkgvwyyx62l00dd1sldy15tr0000gn/T/ipykernel_67663/3780661307.py:17: FutureWarning: Pass y=[-822. -820. -615. ...    0.    0.    0.] as keyword args. From version 0.10 passing these as positional arguments will result in an error\n",
      "  specgram = librosa.feature.melspectrogram(x, sr=fs, n_fft=win_length, hop_length=hop_length, power=2)\n"
     ]
    },
    {
     "name": "stdout",
     "output_type": "stream",
     "text": [
      "Got 1450 syllables.\n",
      "6980720.0\n",
      "/Volumes/RENATA_X/Vallentinlab/bird7159_sorted/chan6/dph052_filtered_denoised_sampled.wav\n",
      "7200000 samples at 40000 Hz.\n",
      "126 annotated syllables.\n"
     ]
    },
    {
     "name": "stderr",
     "output_type": "stream",
     "text": [
      "/var/folders/4g/xkgvwyyx62l00dd1sldy15tr0000gn/T/ipykernel_67663/3780661307.py:17: FutureWarning: Pass y=[374. 253. 192. ...   0.   0.   0.] as keyword args. From version 0.10 passing these as positional arguments will result in an error\n",
      "  specgram = librosa.feature.melspectrogram(x, sr=fs, n_fft=win_length, hop_length=hop_length, power=2)\n"
     ]
    },
    {
     "name": "stdout",
     "output_type": "stream",
     "text": [
      "Got 1576 syllables.\n",
      "7171680.0\n",
      "/Volumes/RENATA_X/Vallentinlab/bird7159_sorted/chan6/dph053_filtered_denoised_sampled.wav\n",
      "7200000 samples at 40000 Hz.\n",
      "139 annotated syllables.\n"
     ]
    },
    {
     "name": "stderr",
     "output_type": "stream",
     "text": [
      "/var/folders/4g/xkgvwyyx62l00dd1sldy15tr0000gn/T/ipykernel_67663/3780661307.py:17: FutureWarning: Pass y=[256. 220. 159. ...   0.   0.   0.] as keyword args. From version 0.10 passing these as positional arguments will result in an error\n",
      "  specgram = librosa.feature.melspectrogram(x, sr=fs, n_fft=win_length, hop_length=hop_length, power=2)\n"
     ]
    },
    {
     "name": "stdout",
     "output_type": "stream",
     "text": [
      "Got 1715 syllables.\n",
      "6982048.0\n",
      "/Volumes/RENATA_X/Vallentinlab/bird7159_sorted/chan6/dph054_filtered_denoised_sampled.wav\n",
      "7200000 samples at 40000 Hz.\n",
      "170 annotated syllables.\n"
     ]
    },
    {
     "name": "stderr",
     "output_type": "stream",
     "text": [
      "/var/folders/4g/xkgvwyyx62l00dd1sldy15tr0000gn/T/ipykernel_67663/3780661307.py:17: FutureWarning: Pass y=[455. 334. 229. ... -39. -32. -25.] as keyword args. From version 0.10 passing these as positional arguments will result in an error\n",
      "  specgram = librosa.feature.melspectrogram(x, sr=fs, n_fft=win_length, hop_length=hop_length, power=2)\n"
     ]
    },
    {
     "name": "stdout",
     "output_type": "stream",
     "text": [
      "Got 1885 syllables.\n",
      "7168464.0\n",
      "/Volumes/RENATA_X/Vallentinlab/bird7159_sorted/chan6/dph055_filtered_denoised_sampled.wav\n",
      "7200000 samples at 40000 Hz.\n",
      "123 annotated syllables.\n"
     ]
    },
    {
     "name": "stderr",
     "output_type": "stream",
     "text": [
      "/var/folders/4g/xkgvwyyx62l00dd1sldy15tr0000gn/T/ipykernel_67663/3780661307.py:17: FutureWarning: Pass y=[-16. -17.   8. ...   0.   0.  -4.] as keyword args. From version 0.10 passing these as positional arguments will result in an error\n",
      "  specgram = librosa.feature.melspectrogram(x, sr=fs, n_fft=win_length, hop_length=hop_length, power=2)\n"
     ]
    },
    {
     "name": "stdout",
     "output_type": "stream",
     "text": [
      "Got 2008 syllables.\n",
      "7122944.0\n",
      "/Volumes/RENATA_X/Vallentinlab/bird7159_sorted/chan6/dph056_filtered_denoised_sampled.wav\n",
      "7200000 samples at 40000 Hz.\n",
      "64 annotated syllables.\n"
     ]
    },
    {
     "name": "stderr",
     "output_type": "stream",
     "text": [
      "/var/folders/4g/xkgvwyyx62l00dd1sldy15tr0000gn/T/ipykernel_67663/3780661307.py:17: FutureWarning: Pass y=[-850. -741. -558. ...   -4.    1.    5.] as keyword args. From version 0.10 passing these as positional arguments will result in an error\n",
      "  specgram = librosa.feature.melspectrogram(x, sr=fs, n_fft=win_length, hop_length=hop_length, power=2)\n"
     ]
    },
    {
     "name": "stdout",
     "output_type": "stream",
     "text": [
      "Got 2072 syllables.\n",
      "6757696.0\n",
      "/Volumes/RENATA_X/Vallentinlab/bird7159_sorted/chan6/dph057_filtered_denoised_sampled.wav\n",
      "7200000 samples at 40000 Hz.\n",
      "168 annotated syllables.\n"
     ]
    },
    {
     "name": "stderr",
     "output_type": "stream",
     "text": [
      "/var/folders/4g/xkgvwyyx62l00dd1sldy15tr0000gn/T/ipykernel_67663/3780661307.py:17: FutureWarning: Pass y=[ -572.  -309.    45. ... -2599. -2136.   535.] as keyword args. From version 0.10 passing these as positional arguments will result in an error\n",
      "  specgram = librosa.feature.melspectrogram(x, sr=fs, n_fft=win_length, hop_length=hop_length, power=2)\n"
     ]
    },
    {
     "name": "stdout",
     "output_type": "stream",
     "text": [
      "Got 2240 syllables.\n",
      "7179376.0\n",
      "/Volumes/RENATA_X/Vallentinlab/bird7159_sorted/chan6/dph058_filtered_denoised_sampled.wav\n",
      "7200000 samples at 40000 Hz.\n",
      "169 annotated syllables.\n"
     ]
    },
    {
     "name": "stderr",
     "output_type": "stream",
     "text": [
      "/var/folders/4g/xkgvwyyx62l00dd1sldy15tr0000gn/T/ipykernel_67663/3780661307.py:17: FutureWarning: Pass y=[-592. -380. -277. ...    0.    0.    0.] as keyword args. From version 0.10 passing these as positional arguments will result in an error\n",
      "  specgram = librosa.feature.melspectrogram(x, sr=fs, n_fft=win_length, hop_length=hop_length, power=2)\n"
     ]
    },
    {
     "name": "stdout",
     "output_type": "stream",
     "text": [
      "Got 2409 syllables.\n",
      "7110720.0\n",
      "/Volumes/RENATA_X/Vallentinlab/bird7159_sorted/chan6/dph059_filtered_denoised_sampled.wav\n",
      "7200000 samples at 40000 Hz.\n",
      "131 annotated syllables.\n"
     ]
    },
    {
     "name": "stderr",
     "output_type": "stream",
     "text": [
      "/var/folders/4g/xkgvwyyx62l00dd1sldy15tr0000gn/T/ipykernel_67663/3780661307.py:17: FutureWarning: Pass y=[-563. -389. -219. ...  -13.   -5.   -2.] as keyword args. From version 0.10 passing these as positional arguments will result in an error\n",
      "  specgram = librosa.feature.melspectrogram(x, sr=fs, n_fft=win_length, hop_length=hop_length, power=2)\n"
     ]
    },
    {
     "name": "stdout",
     "output_type": "stream",
     "text": [
      "Got 2540 syllables.\n",
      "7061088.0\n",
      "/Volumes/RENATA_X/Vallentinlab/bird7159_sorted/chan6/dph060_filtered_denoised_sampled.wav\n",
      "7200000 samples at 40000 Hz.\n",
      "113 annotated syllables.\n"
     ]
    },
    {
     "name": "stderr",
     "output_type": "stream",
     "text": [
      "/var/folders/4g/xkgvwyyx62l00dd1sldy15tr0000gn/T/ipykernel_67663/3780661307.py:17: FutureWarning: Pass y=[97. 32. 14. ...  1.  0.  0.] as keyword args. From version 0.10 passing these as positional arguments will result in an error\n",
      "  specgram = librosa.feature.melspectrogram(x, sr=fs, n_fft=win_length, hop_length=hop_length, power=2)\n"
     ]
    },
    {
     "name": "stdout",
     "output_type": "stream",
     "text": [
      "Got 2653 syllables.\n",
      "7068096.0\n",
      "/Volumes/RENATA_X/Vallentinlab/bird7159_sorted/chan6/dph061_filtered_denoised_sampled.wav\n",
      "7200000 samples at 40000 Hz.\n",
      "141 annotated syllables.\n"
     ]
    },
    {
     "name": "stderr",
     "output_type": "stream",
     "text": [
      "/var/folders/4g/xkgvwyyx62l00dd1sldy15tr0000gn/T/ipykernel_67663/3780661307.py:17: FutureWarning: Pass y=[344. 220. 146. ...   0.   2.  -8.] as keyword args. From version 0.10 passing these as positional arguments will result in an error\n",
      "  specgram = librosa.feature.melspectrogram(x, sr=fs, n_fft=win_length, hop_length=hop_length, power=2)\n"
     ]
    },
    {
     "name": "stdout",
     "output_type": "stream",
     "text": [
      "Got 2794 syllables.\n",
      "6994768.0\n",
      "/Volumes/RENATA_X/Vallentinlab/bird7159_sorted/chan6/dph062_filtered_denoised_sampled.wav\n",
      "7200000 samples at 40000 Hz.\n",
      "138 annotated syllables.\n"
     ]
    },
    {
     "name": "stderr",
     "output_type": "stream",
     "text": [
      "/var/folders/4g/xkgvwyyx62l00dd1sldy15tr0000gn/T/ipykernel_67663/3780661307.py:17: FutureWarning: Pass y=[ 91.  26.  -4. ... 395. 844. 826.] as keyword args. From version 0.10 passing these as positional arguments will result in an error\n",
      "  specgram = librosa.feature.melspectrogram(x, sr=fs, n_fft=win_length, hop_length=hop_length, power=2)\n"
     ]
    },
    {
     "name": "stdout",
     "output_type": "stream",
     "text": [
      "Got 2932 syllables.\n",
      "7136896.0\n",
      "/Volumes/RENATA_X/Vallentinlab/bird7159_sorted/chan6/dph063_filtered_denoised_sampled.wav\n",
      "7200000 samples at 40000 Hz.\n",
      "0 annotated syllables.\n"
     ]
    },
    {
     "name": "stderr",
     "output_type": "stream",
     "text": [
      "/var/folders/4g/xkgvwyyx62l00dd1sldy15tr0000gn/T/ipykernel_67663/3780661307.py:17: FutureWarning: Pass y=[240. 207. 154. ...   0.   0.   0.] as keyword args. From version 0.10 passing these as positional arguments will result in an error\n",
      "  specgram = librosa.feature.melspectrogram(x, sr=fs, n_fft=win_length, hop_length=hop_length, power=2)\n"
     ]
    },
    {
     "name": "stdout",
     "output_type": "stream",
     "text": [
      "Got 2932 syllables.\n",
      "Series([], Name: start_seconds, dtype: float64)\n",
      "/Volumes/RENATA_X/Vallentinlab/bird7159_sorted/chan6/dph064_filtered_denoised_sampled.wav\n",
      "7200000 samples at 40000 Hz.\n",
      "129 annotated syllables.\n"
     ]
    },
    {
     "name": "stderr",
     "output_type": "stream",
     "text": [
      "/var/folders/4g/xkgvwyyx62l00dd1sldy15tr0000gn/T/ipykernel_67663/3780661307.py:17: FutureWarning: Pass y=[-9.63e+02 -1.07e+03 -6.51e+02 ... -1.00e+00  0.00e+00  1.00e+00] as keyword args. From version 0.10 passing these as positional arguments will result in an error\n",
      "  specgram = librosa.feature.melspectrogram(x, sr=fs, n_fft=win_length, hop_length=hop_length, power=2)\n"
     ]
    },
    {
     "name": "stdout",
     "output_type": "stream",
     "text": [
      "Got 3061 syllables.\n",
      "7071728.000000001\n",
      "/Volumes/RENATA_X/Vallentinlab/bird7159_sorted/chan6/dph065_filtered_denoised_sampled.wav\n",
      "7200000 samples at 40000 Hz.\n",
      "153 annotated syllables.\n"
     ]
    },
    {
     "name": "stderr",
     "output_type": "stream",
     "text": [
      "/var/folders/4g/xkgvwyyx62l00dd1sldy15tr0000gn/T/ipykernel_67663/3780661307.py:17: FutureWarning: Pass y=[-10.   1.   4. ...   0.   0.  -1.] as keyword args. From version 0.10 passing these as positional arguments will result in an error\n",
      "  specgram = librosa.feature.melspectrogram(x, sr=fs, n_fft=win_length, hop_length=hop_length, power=2)\n"
     ]
    },
    {
     "name": "stdout",
     "output_type": "stream",
     "text": [
      "Got 3214 syllables.\n",
      "7170752.0\n",
      "/Volumes/RENATA_X/Vallentinlab/bird7159_sorted/chan6/dph066_filtered_denoised_sampled.wav\n",
      "7200000 samples at 40000 Hz.\n",
      "102 annotated syllables.\n"
     ]
    },
    {
     "name": "stderr",
     "output_type": "stream",
     "text": [
      "/var/folders/4g/xkgvwyyx62l00dd1sldy15tr0000gn/T/ipykernel_67663/3780661307.py:17: FutureWarning: Pass y=[-552. -491. -408. ...   36.  867. 1005.] as keyword args. From version 0.10 passing these as positional arguments will result in an error\n",
      "  specgram = librosa.feature.melspectrogram(x, sr=fs, n_fft=win_length, hop_length=hop_length, power=2)\n"
     ]
    },
    {
     "name": "stdout",
     "output_type": "stream",
     "text": [
      "Got 3316 syllables.\n",
      "7184240.0\n",
      "/Volumes/RENATA_X/Vallentinlab/bird7159_sorted/chan6/dph067_filtered_denoised_sampled.wav\n",
      "7200000 samples at 40000 Hz.\n",
      "121 annotated syllables.\n"
     ]
    },
    {
     "name": "stderr",
     "output_type": "stream",
     "text": [
      "/var/folders/4g/xkgvwyyx62l00dd1sldy15tr0000gn/T/ipykernel_67663/3780661307.py:17: FutureWarning: Pass y=[1450. 1263.  870. ... -196. -481. -429.] as keyword args. From version 0.10 passing these as positional arguments will result in an error\n",
      "  specgram = librosa.feature.melspectrogram(x, sr=fs, n_fft=win_length, hop_length=hop_length, power=2)\n"
     ]
    },
    {
     "name": "stdout",
     "output_type": "stream",
     "text": [
      "Got 3437 syllables.\n",
      "6672528.0\n",
      "/Volumes/RENATA_X/Vallentinlab/bird7159_sorted/chan6/dph068_filtered_denoised_sampled.wav\n",
      "7200000 samples at 40000 Hz.\n",
      "121 annotated syllables.\n"
     ]
    },
    {
     "name": "stderr",
     "output_type": "stream",
     "text": [
      "/var/folders/4g/xkgvwyyx62l00dd1sldy15tr0000gn/T/ipykernel_67663/3780661307.py:17: FutureWarning: Pass y=[ 400.  319.  233. ...  -59. -129. -185.] as keyword args. From version 0.10 passing these as positional arguments will result in an error\n",
      "  specgram = librosa.feature.melspectrogram(x, sr=fs, n_fft=win_length, hop_length=hop_length, power=2)\n"
     ]
    },
    {
     "name": "stdout",
     "output_type": "stream",
     "text": [
      "Got 3558 syllables.\n",
      "7172592.0\n",
      "/Volumes/RENATA_X/Vallentinlab/bird7159_sorted/chan6/dph069_filtered_denoised_sampled.wav\n",
      "7200000 samples at 40000 Hz.\n",
      "129 annotated syllables.\n"
     ]
    },
    {
     "name": "stderr",
     "output_type": "stream",
     "text": [
      "/var/folders/4g/xkgvwyyx62l00dd1sldy15tr0000gn/T/ipykernel_67663/3780661307.py:17: FutureWarning: Pass y=[-183. -121.  -70. ...   -3.    1.    5.] as keyword args. From version 0.10 passing these as positional arguments will result in an error\n",
      "  specgram = librosa.feature.melspectrogram(x, sr=fs, n_fft=win_length, hop_length=hop_length, power=2)\n"
     ]
    },
    {
     "name": "stdout",
     "output_type": "stream",
     "text": [
      "Got 3687 syllables.\n",
      "7157840.0\n",
      "/Volumes/RENATA_X/Vallentinlab/bird7159_sorted/chan6/dph070_filtered_denoised_sampled.wav\n",
      "7200000 samples at 40000 Hz.\n",
      "3 annotated syllables.\n"
     ]
    },
    {
     "name": "stderr",
     "output_type": "stream",
     "text": [
      "/var/folders/4g/xkgvwyyx62l00dd1sldy15tr0000gn/T/ipykernel_67663/3780661307.py:17: FutureWarning: Pass y=[-1201. -1065.  -662. ...     0.     0.     0.] as keyword args. From version 0.10 passing these as positional arguments will result in an error\n",
      "  specgram = librosa.feature.melspectrogram(x, sr=fs, n_fft=win_length, hop_length=hop_length, power=2)\n",
      "/var/folders/4g/xkgvwyyx62l00dd1sldy15tr0000gn/T/ipykernel_67663/3780661307.py:26: RuntimeWarning: divide by zero encountered in true_divide\n",
      "  tmp = np.log2(specgram[:, int(onsets/hop_length):int(offsets/hop_length)] / sm[:, np.newaxis])\n",
      "/Users/yirongx/opt/miniconda3/envs/das/lib/python3.8/site-packages/numpy/core/_methods.py:232: RuntimeWarning: invalid value encountered in subtract\n",
      "  x = asanyarray(arr - arrmean)\n"
     ]
    },
    {
     "name": "stdout",
     "output_type": "stream",
     "text": [
      "Got 3690 syllables.\n",
      "5320512.0\n",
      "/Volumes/RENATA_X/Vallentinlab/bird7159_sorted/chan6/dph071_filtered_denoised_sampled.wav\n",
      "7200000 samples at 40000 Hz.\n",
      "104 annotated syllables.\n"
     ]
    },
    {
     "name": "stderr",
     "output_type": "stream",
     "text": [
      "/var/folders/4g/xkgvwyyx62l00dd1sldy15tr0000gn/T/ipykernel_67663/3780661307.py:17: FutureWarning: Pass y=[ 541.  373.  256. ...   22.  -82. -162.] as keyword args. From version 0.10 passing these as positional arguments will result in an error\n",
      "  specgram = librosa.feature.melspectrogram(x, sr=fs, n_fft=win_length, hop_length=hop_length, power=2)\n"
     ]
    },
    {
     "name": "stdout",
     "output_type": "stream",
     "text": [
      "Got 3794 syllables.\n",
      "7036352.000000001\n",
      "/Volumes/RENATA_X/Vallentinlab/bird7159_sorted/chan6/dph072_filtered_denoised_sampled.wav\n",
      "7200000 samples at 40000 Hz.\n",
      "131 annotated syllables.\n"
     ]
    },
    {
     "name": "stderr",
     "output_type": "stream",
     "text": [
      "/var/folders/4g/xkgvwyyx62l00dd1sldy15tr0000gn/T/ipykernel_67663/3780661307.py:17: FutureWarning: Pass y=[-284. -182. -129. ...  793. 1349. 1605.] as keyword args. From version 0.10 passing these as positional arguments will result in an error\n",
      "  specgram = librosa.feature.melspectrogram(x, sr=fs, n_fft=win_length, hop_length=hop_length, power=2)\n"
     ]
    },
    {
     "name": "stdout",
     "output_type": "stream",
     "text": [
      "Got 3925 syllables.\n",
      "6909696.0\n",
      "/Volumes/RENATA_X/Vallentinlab/bird7159_sorted/chan6/dph073_filtered_denoised_sampled.wav\n",
      "7200000 samples at 40000 Hz.\n",
      "124 annotated syllables.\n"
     ]
    },
    {
     "name": "stderr",
     "output_type": "stream",
     "text": [
      "/var/folders/4g/xkgvwyyx62l00dd1sldy15tr0000gn/T/ipykernel_67663/3780661307.py:17: FutureWarning: Pass y=[-323. -245. -156. ...    0.    0.    0.] as keyword args. From version 0.10 passing these as positional arguments will result in an error\n",
      "  specgram = librosa.feature.melspectrogram(x, sr=fs, n_fft=win_length, hop_length=hop_length, power=2)\n"
     ]
    },
    {
     "name": "stdout",
     "output_type": "stream",
     "text": [
      "Got 4049 syllables.\n",
      "7060288.0\n",
      "/Volumes/RENATA_X/Vallentinlab/bird7159_sorted/chan6/dph074_filtered_denoised_sampled.wav\n",
      "7200000 samples at 40000 Hz.\n",
      "67 annotated syllables.\n"
     ]
    },
    {
     "name": "stderr",
     "output_type": "stream",
     "text": [
      "/var/folders/4g/xkgvwyyx62l00dd1sldy15tr0000gn/T/ipykernel_67663/3780661307.py:17: FutureWarning: Pass y=[1219. 1057.  704. ...    0.    0.    0.] as keyword args. From version 0.10 passing these as positional arguments will result in an error\n",
      "  specgram = librosa.feature.melspectrogram(x, sr=fs, n_fft=win_length, hop_length=hop_length, power=2)\n"
     ]
    },
    {
     "name": "stdout",
     "output_type": "stream",
     "text": [
      "Got 4116 syllables.\n",
      "7115200.0\n",
      "/Volumes/RENATA_X/Vallentinlab/bird7159_sorted/chan6/dph075_filtered_denoised_sampled.wav\n",
      "7200000 samples at 40000 Hz.\n",
      "149 annotated syllables.\n"
     ]
    },
    {
     "name": "stderr",
     "output_type": "stream",
     "text": [
      "/var/folders/4g/xkgvwyyx62l00dd1sldy15tr0000gn/T/ipykernel_67663/3780661307.py:17: FutureWarning: Pass y=[-476. -382. -266. ...    2.    6.  -12.] as keyword args. From version 0.10 passing these as positional arguments will result in an error\n",
      "  specgram = librosa.feature.melspectrogram(x, sr=fs, n_fft=win_length, hop_length=hop_length, power=2)\n"
     ]
    },
    {
     "name": "stdout",
     "output_type": "stream",
     "text": [
      "Got 4265 syllables.\n",
      "7182816.0\n",
      "/Volumes/RENATA_X/Vallentinlab/bird7159_sorted/chan6/dph076_filtered_denoised_sampled.wav\n",
      "7200000 samples at 40000 Hz.\n",
      "121 annotated syllables.\n"
     ]
    },
    {
     "name": "stderr",
     "output_type": "stream",
     "text": [
      "/var/folders/4g/xkgvwyyx62l00dd1sldy15tr0000gn/T/ipykernel_67663/3780661307.py:17: FutureWarning: Pass y=[-5023. -4920. -3146. ...     0.     0.     0.] as keyword args. From version 0.10 passing these as positional arguments will result in an error\n",
      "  specgram = librosa.feature.melspectrogram(x, sr=fs, n_fft=win_length, hop_length=hop_length, power=2)\n"
     ]
    },
    {
     "name": "stdout",
     "output_type": "stream",
     "text": [
      "Got 4386 syllables.\n",
      "7138080.0\n",
      "/Volumes/RENATA_X/Vallentinlab/bird7159_sorted/chan6/dph077_filtered_denoised_sampled.wav\n",
      "7200000 samples at 40000 Hz.\n",
      "121 annotated syllables.\n"
     ]
    },
    {
     "name": "stderr",
     "output_type": "stream",
     "text": [
      "/var/folders/4g/xkgvwyyx62l00dd1sldy15tr0000gn/T/ipykernel_67663/3780661307.py:17: FutureWarning: Pass y=[-360. -256. -179. ...    0.    0.    0.] as keyword args. From version 0.10 passing these as positional arguments will result in an error\n",
      "  specgram = librosa.feature.melspectrogram(x, sr=fs, n_fft=win_length, hop_length=hop_length, power=2)\n"
     ]
    },
    {
     "name": "stdout",
     "output_type": "stream",
     "text": [
      "Got 4507 syllables.\n",
      "7094112.0\n",
      "/Volumes/RENATA_X/Vallentinlab/bird7159_sorted/chan6/dph078_filtered_denoised_sampled.wav\n",
      "7200000 samples at 40000 Hz.\n",
      "125 annotated syllables.\n"
     ]
    },
    {
     "name": "stderr",
     "output_type": "stream",
     "text": [
      "/var/folders/4g/xkgvwyyx62l00dd1sldy15tr0000gn/T/ipykernel_67663/3780661307.py:17: FutureWarning: Pass y=[469. 308. 232. ...   1.  -1.  -2.] as keyword args. From version 0.10 passing these as positional arguments will result in an error\n",
      "  specgram = librosa.feature.melspectrogram(x, sr=fs, n_fft=win_length, hop_length=hop_length, power=2)\n"
     ]
    },
    {
     "name": "stdout",
     "output_type": "stream",
     "text": [
      "Got 4632 syllables.\n",
      "7023792.0\n",
      "/Volumes/RENATA_X/Vallentinlab/bird7159_sorted/chan6/dph079_filtered_denoised_sampled.wav\n",
      "7200000 samples at 40000 Hz.\n",
      "96 annotated syllables.\n"
     ]
    },
    {
     "name": "stderr",
     "output_type": "stream",
     "text": [
      "/var/folders/4g/xkgvwyyx62l00dd1sldy15tr0000gn/T/ipykernel_67663/3780661307.py:17: FutureWarning: Pass y=[0. 2. 0. ... 0. 0. 0.] as keyword args. From version 0.10 passing these as positional arguments will result in an error\n",
      "  specgram = librosa.feature.melspectrogram(x, sr=fs, n_fft=win_length, hop_length=hop_length, power=2)\n"
     ]
    },
    {
     "name": "stdout",
     "output_type": "stream",
     "text": [
      "Got 4728 syllables.\n",
      "6917184.0\n",
      "/Volumes/RENATA_X/Vallentinlab/bird7159_sorted/chan6/dph080_filtered_denoised_sampled.wav\n",
      "7200000 samples at 40000 Hz.\n",
      "98 annotated syllables.\n"
     ]
    },
    {
     "name": "stderr",
     "output_type": "stream",
     "text": [
      "/var/folders/4g/xkgvwyyx62l00dd1sldy15tr0000gn/T/ipykernel_67663/3780661307.py:17: FutureWarning: Pass y=[917. 740. 558. ...   0.   0.   0.] as keyword args. From version 0.10 passing these as positional arguments will result in an error\n",
      "  specgram = librosa.feature.melspectrogram(x, sr=fs, n_fft=win_length, hop_length=hop_length, power=2)\n"
     ]
    },
    {
     "name": "stdout",
     "output_type": "stream",
     "text": [
      "Got 4826 syllables.\n",
      "6987088.0\n",
      "/Volumes/RENATA_X/Vallentinlab/bird7159_sorted/chan6/dph081_filtered_denoised_sampled.wav\n",
      "7200000 samples at 40000 Hz.\n",
      "95 annotated syllables.\n"
     ]
    },
    {
     "name": "stderr",
     "output_type": "stream",
     "text": [
      "/var/folders/4g/xkgvwyyx62l00dd1sldy15tr0000gn/T/ipykernel_67663/3780661307.py:17: FutureWarning: Pass y=[ -138.   -85.   -73. ...  -656. -1982. -2413.] as keyword args. From version 0.10 passing these as positional arguments will result in an error\n",
      "  specgram = librosa.feature.melspectrogram(x, sr=fs, n_fft=win_length, hop_length=hop_length, power=2)\n"
     ]
    },
    {
     "name": "stdout",
     "output_type": "stream",
     "text": [
      "Got 4921 syllables.\n",
      "7190032.0\n",
      "/Volumes/RENATA_X/Vallentinlab/bird7159_sorted/chan6/dph082_filtered_denoised_sampled.wav\n",
      "7200000 samples at 40000 Hz.\n",
      "66 annotated syllables.\n"
     ]
    },
    {
     "name": "stderr",
     "output_type": "stream",
     "text": [
      "/var/folders/4g/xkgvwyyx62l00dd1sldy15tr0000gn/T/ipykernel_67663/3780661307.py:17: FutureWarning: Pass y=[4962. 4216. 1799. ...  -25.  -26.  -22.] as keyword args. From version 0.10 passing these as positional arguments will result in an error\n",
      "  specgram = librosa.feature.melspectrogram(x, sr=fs, n_fft=win_length, hop_length=hop_length, power=2)\n"
     ]
    },
    {
     "name": "stdout",
     "output_type": "stream",
     "text": [
      "Got 4987 syllables.\n",
      "7186624.000000001\n",
      "/Volumes/RENATA_X/Vallentinlab/bird7159_sorted/chan6/dph083_filtered_denoised_sampled.wav\n",
      "7200000 samples at 40000 Hz.\n",
      "98 annotated syllables.\n"
     ]
    },
    {
     "name": "stderr",
     "output_type": "stream",
     "text": [
      "/var/folders/4g/xkgvwyyx62l00dd1sldy15tr0000gn/T/ipykernel_67663/3780661307.py:17: FutureWarning: Pass y=[1410. 1123.  814. ...    0.    0.    0.] as keyword args. From version 0.10 passing these as positional arguments will result in an error\n",
      "  specgram = librosa.feature.melspectrogram(x, sr=fs, n_fft=win_length, hop_length=hop_length, power=2)\n"
     ]
    },
    {
     "name": "stdout",
     "output_type": "stream",
     "text": [
      "Got 5085 syllables.\n",
      "6983792.0\n",
      "/Volumes/RENATA_X/Vallentinlab/bird7159_sorted/chan6/dph084_filtered_denoised_sampled.wav\n",
      "7200000 samples at 40000 Hz.\n",
      "36 annotated syllables.\n"
     ]
    },
    {
     "name": "stderr",
     "output_type": "stream",
     "text": [
      "/var/folders/4g/xkgvwyyx62l00dd1sldy15tr0000gn/T/ipykernel_67663/3780661307.py:17: FutureWarning: Pass y=[1735. 1603. 1090. ...    0.    0.    0.] as keyword args. From version 0.10 passing these as positional arguments will result in an error\n",
      "  specgram = librosa.feature.melspectrogram(x, sr=fs, n_fft=win_length, hop_length=hop_length, power=2)\n"
     ]
    },
    {
     "name": "stdout",
     "output_type": "stream",
     "text": [
      "Got 5121 syllables.\n",
      "7055359.999999999\n",
      "/Volumes/RENATA_X/Vallentinlab/bird7159_sorted/chan6/dph085_filtered_denoised_sampled.wav\n",
      "7200000 samples at 40000 Hz.\n",
      "95 annotated syllables.\n"
     ]
    },
    {
     "name": "stderr",
     "output_type": "stream",
     "text": [
      "/var/folders/4g/xkgvwyyx62l00dd1sldy15tr0000gn/T/ipykernel_67663/3780661307.py:17: FutureWarning: Pass y=[97. 78. 56. ... -1.  0.  0.] as keyword args. From version 0.10 passing these as positional arguments will result in an error\n",
      "  specgram = librosa.feature.melspectrogram(x, sr=fs, n_fft=win_length, hop_length=hop_length, power=2)\n"
     ]
    },
    {
     "name": "stdout",
     "output_type": "stream",
     "text": [
      "Got 5216 syllables.\n",
      "6939120.0\n",
      "/Volumes/RENATA_X/Vallentinlab/bird7159_sorted/chan6/dph086_filtered_denoised_sampled.wav\n",
      "7200000 samples at 40000 Hz.\n",
      "92 annotated syllables.\n"
     ]
    },
    {
     "name": "stderr",
     "output_type": "stream",
     "text": [
      "/var/folders/4g/xkgvwyyx62l00dd1sldy15tr0000gn/T/ipykernel_67663/3780661307.py:17: FutureWarning: Pass y=[ 76.  34.  18. ... -86. -73. -65.] as keyword args. From version 0.10 passing these as positional arguments will result in an error\n",
      "  specgram = librosa.feature.melspectrogram(x, sr=fs, n_fft=win_length, hop_length=hop_length, power=2)\n"
     ]
    },
    {
     "name": "stdout",
     "output_type": "stream",
     "text": [
      "Got 5308 syllables.\n",
      "7108352.0\n",
      "/Volumes/RENATA_X/Vallentinlab/bird7159_sorted/chan6/dph087_filtered_denoised_sampled.wav\n",
      "7200000 samples at 40000 Hz.\n",
      "108 annotated syllables.\n"
     ]
    },
    {
     "name": "stderr",
     "output_type": "stream",
     "text": [
      "/var/folders/4g/xkgvwyyx62l00dd1sldy15tr0000gn/T/ipykernel_67663/3780661307.py:17: FutureWarning: Pass y=[-502. -363. -253. ...    0.    0.    0.] as keyword args. From version 0.10 passing these as positional arguments will result in an error\n",
      "  specgram = librosa.feature.melspectrogram(x, sr=fs, n_fft=win_length, hop_length=hop_length, power=2)\n"
     ]
    },
    {
     "name": "stdout",
     "output_type": "stream",
     "text": [
      "Got 5416 syllables.\n",
      "7147456.0\n",
      "/Volumes/RENATA_X/Vallentinlab/bird7159_sorted/chan6/dph088_filtered_denoised_sampled.wav\n",
      "7200000 samples at 40000 Hz.\n",
      "64 annotated syllables.\n"
     ]
    },
    {
     "name": "stderr",
     "output_type": "stream",
     "text": [
      "/var/folders/4g/xkgvwyyx62l00dd1sldy15tr0000gn/T/ipykernel_67663/3780661307.py:17: FutureWarning: Pass y=[-1336. -1087.  -627. ...     0.     0.     0.] as keyword args. From version 0.10 passing these as positional arguments will result in an error\n",
      "  specgram = librosa.feature.melspectrogram(x, sr=fs, n_fft=win_length, hop_length=hop_length, power=2)\n"
     ]
    },
    {
     "name": "stdout",
     "output_type": "stream",
     "text": [
      "Got 5480 syllables.\n",
      "7125936.0\n",
      "/Volumes/RENATA_X/Vallentinlab/bird7159_sorted/chan6/dph089_filtered_denoised_sampled.wav\n",
      "7200000 samples at 40000 Hz.\n",
      "77 annotated syllables.\n"
     ]
    },
    {
     "name": "stderr",
     "output_type": "stream",
     "text": [
      "/var/folders/4g/xkgvwyyx62l00dd1sldy15tr0000gn/T/ipykernel_67663/3780661307.py:17: FutureWarning: Pass y=[1915. 1806. 1193. ...  112.  107.  134.] as keyword args. From version 0.10 passing these as positional arguments will result in an error\n",
      "  specgram = librosa.feature.melspectrogram(x, sr=fs, n_fft=win_length, hop_length=hop_length, power=2)\n"
     ]
    },
    {
     "name": "stdout",
     "output_type": "stream",
     "text": [
      "Got 5557 syllables.\n",
      "7187776.0\n",
      "/Volumes/RENATA_X/Vallentinlab/bird7159_sorted/chan6/dph090_filtered_denoised_sampled.wav\n",
      "7200000 samples at 40000 Hz.\n",
      "77 annotated syllables.\n"
     ]
    },
    {
     "name": "stderr",
     "output_type": "stream",
     "text": [
      "/var/folders/4g/xkgvwyyx62l00dd1sldy15tr0000gn/T/ipykernel_67663/3780661307.py:17: FutureWarning: Pass y=[-360. -263. -144. ...    0.    0.    0.] as keyword args. From version 0.10 passing these as positional arguments will result in an error\n",
      "  specgram = librosa.feature.melspectrogram(x, sr=fs, n_fft=win_length, hop_length=hop_length, power=2)\n"
     ]
    },
    {
     "name": "stdout",
     "output_type": "stream",
     "text": [
      "Got 5634 syllables.\n",
      "6993392.0\n",
      "/Volumes/RENATA_X/Vallentinlab/bird7159_sorted/chan6/dph091_filtered_denoised_sampled.wav\n",
      "7200000 samples at 40000 Hz.\n",
      "50 annotated syllables.\n"
     ]
    },
    {
     "name": "stderr",
     "output_type": "stream",
     "text": [
      "/var/folders/4g/xkgvwyyx62l00dd1sldy15tr0000gn/T/ipykernel_67663/3780661307.py:17: FutureWarning: Pass y=[-419. -348. -251. ... -139.  -90.   15.] as keyword args. From version 0.10 passing these as positional arguments will result in an error\n",
      "  specgram = librosa.feature.melspectrogram(x, sr=fs, n_fft=win_length, hop_length=hop_length, power=2)\n"
     ]
    },
    {
     "name": "stdout",
     "output_type": "stream",
     "text": [
      "Got 5684 syllables.\n",
      "7189408.0\n",
      "/Volumes/RENATA_X/Vallentinlab/bird7159_sorted/chan6/dph095_filtered_denoised_sampled.wav\n",
      "7200000 samples at 40000 Hz.\n",
      "41 annotated syllables.\n"
     ]
    },
    {
     "name": "stderr",
     "output_type": "stream",
     "text": [
      "/var/folders/4g/xkgvwyyx62l00dd1sldy15tr0000gn/T/ipykernel_67663/3780661307.py:17: FutureWarning: Pass y=[2474. 2261. 1162. ...   97.  -33.   26.] as keyword args. From version 0.10 passing these as positional arguments will result in an error\n",
      "  specgram = librosa.feature.melspectrogram(x, sr=fs, n_fft=win_length, hop_length=hop_length, power=2)\n"
     ]
    },
    {
     "name": "stdout",
     "output_type": "stream",
     "text": [
      "Got 5725 syllables.\n",
      "6996576.0\n",
      "/Volumes/RENATA_X/Vallentinlab/bird7159_sorted/chan6/dph100_filtered_denoised_sampled.wav\n",
      "7200000 samples at 40000 Hz.\n",
      "98 annotated syllables.\n"
     ]
    },
    {
     "name": "stderr",
     "output_type": "stream",
     "text": [
      "/var/folders/4g/xkgvwyyx62l00dd1sldy15tr0000gn/T/ipykernel_67663/3780661307.py:17: FutureWarning: Pass y=[4175. 4056. 2569. ...    0.    0.    0.] as keyword args. From version 0.10 passing these as positional arguments will result in an error\n",
      "  specgram = librosa.feature.melspectrogram(x, sr=fs, n_fft=win_length, hop_length=hop_length, power=2)\n"
     ]
    },
    {
     "name": "stdout",
     "output_type": "stream",
     "text": [
      "Got 5823 syllables.\n",
      "7136912.0\n",
      "/Volumes/RENATA_X/Vallentinlab/bird7159_sorted/chan6/dph105_filtered_denoised_sampled.wav\n",
      "7200000 samples at 40000 Hz.\n",
      "75 annotated syllables.\n"
     ]
    },
    {
     "name": "stderr",
     "output_type": "stream",
     "text": [
      "/var/folders/4g/xkgvwyyx62l00dd1sldy15tr0000gn/T/ipykernel_67663/3780661307.py:17: FutureWarning: Pass y=[464. 321. 239. ...  -1.   0.   1.] as keyword args. From version 0.10 passing these as positional arguments will result in an error\n",
      "  specgram = librosa.feature.melspectrogram(x, sr=fs, n_fft=win_length, hop_length=hop_length, power=2)\n"
     ]
    },
    {
     "name": "stdout",
     "output_type": "stream",
     "text": [
      "Got 5898 syllables.\n",
      "6908224.0\n",
      "/Volumes/RENATA_X/Vallentinlab/bird7159_sorted/chan6/dph110_filtered_denoised_sampled.wav\n",
      "7200000 samples at 40000 Hz.\n",
      "86 annotated syllables.\n"
     ]
    },
    {
     "name": "stderr",
     "output_type": "stream",
     "text": [
      "/var/folders/4g/xkgvwyyx62l00dd1sldy15tr0000gn/T/ipykernel_67663/3780661307.py:17: FutureWarning: Pass y=[67. 45. 33. ...  0.  0.  0.] as keyword args. From version 0.10 passing these as positional arguments will result in an error\n",
      "  specgram = librosa.feature.melspectrogram(x, sr=fs, n_fft=win_length, hop_length=hop_length, power=2)\n"
     ]
    },
    {
     "name": "stdout",
     "output_type": "stream",
     "text": [
      "Got 5984 syllables.\n",
      "7070400.0\n",
      "/Volumes/RENATA_X/Vallentinlab/bird7159_sorted/chan6/dph115_filtered_denoised_sampled.wav\n",
      "7200000 samples at 40000 Hz.\n",
      "43 annotated syllables.\n"
     ]
    },
    {
     "name": "stderr",
     "output_type": "stream",
     "text": [
      "/var/folders/4g/xkgvwyyx62l00dd1sldy15tr0000gn/T/ipykernel_67663/3780661307.py:17: FutureWarning: Pass y=[-1395. -1317.  -902. ...     0.     0.     0.] as keyword args. From version 0.10 passing these as positional arguments will result in an error\n",
      "  specgram = librosa.feature.melspectrogram(x, sr=fs, n_fft=win_length, hop_length=hop_length, power=2)\n"
     ]
    },
    {
     "name": "stdout",
     "output_type": "stream",
     "text": [
      "Got 6027 syllables.\n",
      "7135008.0\n",
      "/Volumes/RENATA_X/Vallentinlab/bird7159_sorted/chan6/dph121_filtered_denoised_sampled.wav\n",
      "7200000 samples at 40000 Hz.\n",
      "66 annotated syllables.\n"
     ]
    },
    {
     "name": "stderr",
     "output_type": "stream",
     "text": [
      "/var/folders/4g/xkgvwyyx62l00dd1sldy15tr0000gn/T/ipykernel_67663/3780661307.py:17: FutureWarning: Pass y=[106.  44.  22. ...   0.  -2.   0.] as keyword args. From version 0.10 passing these as positional arguments will result in an error\n",
      "  specgram = librosa.feature.melspectrogram(x, sr=fs, n_fft=win_length, hop_length=hop_length, power=2)\n"
     ]
    },
    {
     "name": "stdout",
     "output_type": "stream",
     "text": [
      "Got 6093 syllables.\n",
      "7019344.0\n",
      "/Volumes/RENATA_X/Vallentinlab/bird7159_sorted/chan6/dph122_filtered_denoised_sampled.wav\n",
      "7200000 samples at 40000 Hz.\n",
      "68 annotated syllables.\n"
     ]
    },
    {
     "name": "stderr",
     "output_type": "stream",
     "text": [
      "/var/folders/4g/xkgvwyyx62l00dd1sldy15tr0000gn/T/ipykernel_67663/3780661307.py:17: FutureWarning: Pass y=[1.001e+03 7.310e+02 4.170e+02 ... 1.000e+00 1.000e+00 0.000e+00] as keyword args. From version 0.10 passing these as positional arguments will result in an error\n",
      "  specgram = librosa.feature.melspectrogram(x, sr=fs, n_fft=win_length, hop_length=hop_length, power=2)\n"
     ]
    },
    {
     "name": "stdout",
     "output_type": "stream",
     "text": [
      "Got 6161 syllables.\n",
      "7148816.000000001\n",
      "/Volumes/RENATA_X/Vallentinlab/bird7159_sorted/chan6/dph123_filtered_denoised_sampled.wav\n",
      "7200000 samples at 40000 Hz.\n",
      "65 annotated syllables.\n"
     ]
    },
    {
     "name": "stderr",
     "output_type": "stream",
     "text": [
      "/var/folders/4g/xkgvwyyx62l00dd1sldy15tr0000gn/T/ipykernel_67663/3780661307.py:17: FutureWarning: Pass y=[-3.134e+03 -2.982e+03 -1.843e+03 ... -4.000e+00 -4.000e+00 -3.000e+00] as keyword args. From version 0.10 passing these as positional arguments will result in an error\n",
      "  specgram = librosa.feature.melspectrogram(x, sr=fs, n_fft=win_length, hop_length=hop_length, power=2)\n"
     ]
    },
    {
     "name": "stdout",
     "output_type": "stream",
     "text": [
      "Got 6226 syllables.\n",
      "6886064.0\n",
      "/Volumes/RENATA_X/Vallentinlab/bird7159_sorted/chan6/dph124_filtered_denoised_sampled.wav\n",
      "7200000 samples at 40000 Hz.\n",
      "76 annotated syllables.\n"
     ]
    },
    {
     "name": "stderr",
     "output_type": "stream",
     "text": [
      "/var/folders/4g/xkgvwyyx62l00dd1sldy15tr0000gn/T/ipykernel_67663/3780661307.py:17: FutureWarning: Pass y=[ -281.  -214.  -111. ... -2294.  -446.  1605.] as keyword args. From version 0.10 passing these as positional arguments will result in an error\n",
      "  specgram = librosa.feature.melspectrogram(x, sr=fs, n_fft=win_length, hop_length=hop_length, power=2)\n"
     ]
    },
    {
     "name": "stdout",
     "output_type": "stream",
     "text": [
      "Got 6302 syllables.\n",
      "6993552.0\n",
      "/Volumes/RENATA_X/Vallentinlab/bird7159_sorted/chan6/dph126_filtered_denoised_sampled.wav\n",
      "7200000 samples at 40000 Hz.\n",
      "44 annotated syllables.\n"
     ]
    },
    {
     "name": "stderr",
     "output_type": "stream",
     "text": [
      "/var/folders/4g/xkgvwyyx62l00dd1sldy15tr0000gn/T/ipykernel_67663/3780661307.py:17: FutureWarning: Pass y=[1011.  833.  608. ...    0.    0.    0.] as keyword args. From version 0.10 passing these as positional arguments will result in an error\n",
      "  specgram = librosa.feature.melspectrogram(x, sr=fs, n_fft=win_length, hop_length=hop_length, power=2)\n",
      "/var/folders/4g/xkgvwyyx62l00dd1sldy15tr0000gn/T/ipykernel_67663/3780661307.py:26: RuntimeWarning: divide by zero encountered in true_divide\n",
      "  tmp = np.log2(specgram[:, int(onsets/hop_length):int(offsets/hop_length)] / sm[:, np.newaxis])\n",
      "/Users/yirongx/opt/miniconda3/envs/das/lib/python3.8/site-packages/numpy/core/_methods.py:232: RuntimeWarning: invalid value encountered in subtract\n",
      "  x = asanyarray(arr - arrmean)\n"
     ]
    },
    {
     "name": "stdout",
     "output_type": "stream",
     "text": [
      "Got 6346 syllables.\n",
      "7139344.0\n"
     ]
    }
   ],
   "source": [
    "for csv_file in file_list:\n",
    "    fname = os.path.split(csv_file)[1]\n",
    "    wav_file = os.path.splitext(csv_file)[0][:-12]+'.wav'\n",
    "    print(wav_file)\n",
    "    # load recording and annotations\n",
    "    fs, x = scipy.io.wavfile.read(wav_file)\n",
    "    x = x.astype(float)\n",
    "    print(f\"{len(x)} samples at {fs} Hz.\")\n",
    "\n",
    "    annotations = pd.read_csv(csv_file)\n",
    "    \n",
    "    syllables = annotations.loc[annotations.name==4]##syllables = annotations.loc[annotations.name=='syllable']\n",
    "    print(f\"{len(syllables)} annotated syllables.\")\n",
    "    del annotations\n",
    "    hop_length = int(2 * fs / 1000)\n",
    "    win_length = int(10 * fs / 1000 * 2)\n",
    "    specgram = librosa.feature.melspectrogram(x, sr=fs, n_fft=win_length, hop_length=hop_length, power=2)\n",
    "    # specgram = specgram[np.where(specgram[:,0]!=0)[0],:]\n",
    "    sm = np.median(specgram, axis=1)\n",
    "    \n",
    "    del x\n",
    "\n",
    "    onsets = syllables['start_seconds'] * fs  # samples\n",
    "    offsets = syllables['stop_seconds'] * fs  # samples\n",
    "    for cnt, (onsets, offsets) in enumerate(zip(onsets, offsets)):\n",
    "        tmp = np.log2(specgram[:, int(onsets/hop_length):int(offsets/hop_length)] / sm[:, np.newaxis])\n",
    "        \n",
    "        amps.append(np.var(tmp))\n",
    "        tmp = tmp[freq_min_idx:freq_max_idx:freq_step_idx, :]\n",
    "        tmp = np.clip(tmp - amplitude_thres, 0, np.inf)\n",
    "        specs.append(tmp)\n",
    "        durations.append((offsets-onsets) / fs)\n",
    "    del specgram\n",
    "    \n",
    "\n",
    "    print(f\"Got {len(specs)} syllables.\")\n",
    "    print(onsets)\n",
    "\n",
    "spec_rs = [das_unsupervised.spec_utils.log_resize_spec(spec, scaling_factor=8) for spec in specs]\n",
    "max_len = np.max([spec.shape[1] for spec in spec_rs]) + 1\n",
    "spec_rs = [das_unsupervised.spec_utils.pad_spec(spec, pad_length=max_len) for spec in spec_rs]\n",
    "\n",
    "spec_flat = [spec.ravel() for spec in spec_rs]\n",
    "spec_flat = np.stack(spec_flat, axis=1)"
   ]
  },
  {
   "cell_type": "code",
   "execution_count": 69,
   "id": "3b37d9fb",
   "metadata": {},
   "outputs": [
    {
     "data": {
      "image/png": "[encoded data removed]",
      "text/plain": [
       "<Figure size 864x864 with 1 Axes>"
      ]
     },
     "metadata": {
      "needs_background": "light"
     },
     "output_type": "display_data"
    }
   ],
   "source": [
    "day_labels = day_label[~(np.max(spec_flat,axis=0)==0)]\n",
    "spec_flat[np.isnan(spec_flat)] = 0\n",
    "spec_flat[np.isinf(spec_flat)] = 0\n",
    "spec_flat_new = spec_flat[:,~(np.max(spec_flat,axis=0)==0)]\n",
    "out = umap.UMAP(min_dist=0.08, n_neighbors=20).fit_transform(spec_flat_new.T)\n",
    "#hdbscan_labels = hdbscan.HDBSCAN(min_samples=10, min_cluster_size=20).fit_predict(out)\n",
    "plt.figure(figsize=(12, 12))\n",
    "plt.scatter(out[:,0], out[:,1],c=day_labels,alpha=.5) #c=types\n",
    "plt.xlabel('UMAP 1')\n",
    "plt.ylabel('UMAP 2')\n",
    "plt.show()"
   ]
  },
  {
   "cell_type": "markdown",
   "id": "4bfd6057",
   "metadata": {},
   "source": [
    "# save csv file"
   ]
  },
  {
   "cell_type": "code",
   "execution_count": 60,
   "id": "685de96b",
   "metadata": {},
   "outputs": [],
   "source": [
    "import numpy as np\n",
    "from scipy.spatial.distance import pdist\n",
    "from scipy.spatial.distance import squareform\n",
    "distA=pdist(out,metric='euclidean')\n",
    "distB = squareform(distA)\n"
   ]
  },
  {
   "cell_type": "code",
   "execution_count": 61,
   "id": "f065f92d",
   "metadata": {},
   "outputs": [],
   "source": [
    "day_labels_save = np.array(['%03d'%label for label in (day_labels/10).astype(int)*10])\n",
    "arr = np.concatenate([out.T,day_labels_save.reshape((1,len(day_labels))),np.arange(1,len(day_labels)+1).reshape((1,len(day_labels)))],axis=0).T\n",
    "pd.DataFrame(arr).to_csv('umap_pred.csv',sep=',',index=False, header=False)\n",
    "\n"
   ]
  },
  {
   "cell_type": "code",
   "execution_count": 68,
   "id": "2db9e092",
   "metadata": {},
   "outputs": [],
   "source": [
    "sylmtx_20 = np.zeros((out.shape[0],20))\n",
    "\n",
    "for i in range(distB.shape[0]):\n",
    "    sylmtx_20[i,:]=np.argsort(distB[:,i])[0:20]\n",
    "np.savetxt('sylmtx_20.csv',sylmtx_20,delimiter=',')\n",
    "np.savetxt('sylmtx_pred.csv',spec_flat_new*255/np.max(spec_flat_new),delimiter=',')"
   ]
  },
  {
   "cell_type": "code",
   "execution_count": 33,
   "id": "4a09cf29",
   "metadata": {},
   "outputs": [
    {
     "name": "stdout",
     "output_type": "stream",
     "text": [
      "48\n"
     ]
    }
   ],
   "source": [
    "print(max_len)"
   ]
  }
 ],
 "metadata": {
  "kernelspec": {
   "display_name": "das",
   "language": "python",
   "name": "das"
  },
  "language_info": {
   "codemirror_mode": {
    "name": "ipython",
    "version": 3
   },
   "file_extension": ".py",
   "mimetype": "text/x-python",
   "name": "python",
   "nbconvert_exporter": "python",
   "pygments_lexer": "ipython3",
   "version": "3.8.12"
  }
 },
 "nbformat": 4,
 "nbformat_minor": 5
}
