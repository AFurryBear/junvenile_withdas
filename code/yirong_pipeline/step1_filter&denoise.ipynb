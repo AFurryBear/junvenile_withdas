{
 "cells": [
  {
   "cell_type": "markdown",
   "metadata": {
    "id": "snkA5tIZ8ccB"
   },
   "source": [
    "# loading packages and functions\n",
    "run the cells below to load useful packages and functions"
   ]
  },
  {
   "cell_type": "code",
   "execution_count": 1,
   "metadata": {
    "colab": {
     "base_uri": "https://localhost:8080/"
    },
    "id": "qai8KYB19PjX",
    "outputId": "9493e133-48b4-4c31-8cef-68560cc08bd4"
   },
   "outputs": [
    {
     "name": "stdout",
     "output_type": "stream",
     "text": [
      "Collecting pydub\n",
      "  Using cached pydub-0.25.1-py2.py3-none-any.whl (32 kB)\n",
      "Installing collected packages: pydub\n",
      "Successfully installed pydub-0.25.1\n"
     ]
    }
   ],
   "source": [
    "!pip install pydub"
   ]
  },
  {
   "cell_type": "code",
   "execution_count": 2,
   "metadata": {
    "colab": {
     "base_uri": "https://localhost:8080/"
    },
    "id": "JeqMa2wg-HIp",
    "outputId": "1ff38870-f0b2-489e-9ad3-3478a697b44c"
   },
   "outputs": [
    {
     "name": "stdout",
     "output_type": "stream",
     "text": [
      "Collecting noisereduce\n",
      "  Using cached noisereduce-2.0.1-py3-none-any.whl (15 kB)\n",
      "Requirement already satisfied: numpy in c:\\users\\renat\\anaconda3\\lib\\site-packages (from noisereduce) (1.20.3)\n",
      "Requirement already satisfied: tqdm in c:\\users\\renat\\anaconda3\\lib\\site-packages (from noisereduce) (4.62.3)\n",
      "Requirement already satisfied: librosa in c:\\users\\renat\\anaconda3\\lib\\site-packages (from noisereduce) (0.9.1)\n",
      "Requirement already satisfied: matplotlib in c:\\users\\renat\\anaconda3\\lib\\site-packages (from noisereduce) (3.4.3)\n",
      "Requirement already satisfied: scipy in c:\\users\\renat\\anaconda3\\lib\\site-packages (from noisereduce) (1.7.1)\n",
      "Requirement already satisfied: packaging>=20.0 in c:\\users\\renat\\anaconda3\\lib\\site-packages (from librosa->noisereduce) (21.0)\n",
      "Requirement already satisfied: resampy>=0.2.2 in c:\\users\\renat\\anaconda3\\lib\\site-packages (from librosa->noisereduce) (0.2.2)\n",
      "Requirement already satisfied: numba>=0.45.1 in c:\\users\\renat\\anaconda3\\lib\\site-packages (from librosa->noisereduce) (0.54.1)\n",
      "Requirement already satisfied: soundfile>=0.10.2 in c:\\users\\renat\\anaconda3\\lib\\site-packages (from librosa->noisereduce) (0.10.3.post1)\n",
      "Requirement already satisfied: decorator>=4.0.10 in c:\\users\\renat\\anaconda3\\lib\\site-packages (from librosa->noisereduce) (5.1.0)\n",
      "Requirement already satisfied: audioread>=2.1.5 in c:\\users\\renat\\anaconda3\\lib\\site-packages (from librosa->noisereduce) (2.1.9)\n",
      "Requirement already satisfied: joblib>=0.14 in c:\\users\\renat\\anaconda3\\lib\\site-packages (from librosa->noisereduce) (1.1.0)\n",
      "Requirement already satisfied: scikit-learn>=0.19.1 in c:\\users\\renat\\anaconda3\\lib\\site-packages (from librosa->noisereduce) (0.24.2)\n",
      "Requirement already satisfied: pooch>=1.0 in c:\\users\\renat\\anaconda3\\lib\\site-packages (from librosa->noisereduce) (1.6.0)\n",
      "Requirement already satisfied: setuptools in c:\\users\\renat\\anaconda3\\lib\\site-packages (from numba>=0.45.1->librosa->noisereduce) (58.0.4)\n",
      "Requirement already satisfied: llvmlite<0.38,>=0.37.0rc1 in c:\\users\\renat\\anaconda3\\lib\\site-packages (from numba>=0.45.1->librosa->noisereduce) (0.37.0)\n",
      "Requirement already satisfied: pyparsing>=2.0.2 in c:\\users\\renat\\anaconda3\\lib\\site-packages (from packaging>=20.0->librosa->noisereduce) (3.0.4)\n",
      "Requirement already satisfied: appdirs>=1.3.0 in c:\\users\\renat\\anaconda3\\lib\\site-packages (from pooch>=1.0->librosa->noisereduce) (1.4.4)\n",
      "Requirement already satisfied: requests>=2.19.0 in c:\\users\\renat\\anaconda3\\lib\\site-packages (from pooch>=1.0->librosa->noisereduce) (2.26.0)\n",
      "Requirement already satisfied: idna<4,>=2.5 in c:\\users\\renat\\anaconda3\\lib\\site-packages (from requests>=2.19.0->pooch>=1.0->librosa->noisereduce) (3.2)\n",
      "Requirement already satisfied: charset-normalizer~=2.0.0 in c:\\users\\renat\\anaconda3\\lib\\site-packages (from requests>=2.19.0->pooch>=1.0->librosa->noisereduce) (2.0.4)\n",
      "Requirement already satisfied: urllib3<1.27,>=1.21.1 in c:\\users\\renat\\anaconda3\\lib\\site-packages (from requests>=2.19.0->pooch>=1.0->librosa->noisereduce) (1.26.7)\n",
      "Requirement already satisfied: certifi>=2017.4.17 in c:\\users\\renat\\anaconda3\\lib\\site-packages (from requests>=2.19.0->pooch>=1.0->librosa->noisereduce) (2021.10.8)\n",
      "Requirement already satisfied: six>=1.3 in c:\\users\\renat\\anaconda3\\lib\\site-packages (from resampy>=0.2.2->librosa->noisereduce) (1.16.0)\n",
      "Requirement already satisfied: threadpoolctl>=2.0.0 in c:\\users\\renat\\anaconda3\\lib\\site-packages (from scikit-learn>=0.19.1->librosa->noisereduce) (2.2.0)\n",
      "Requirement already satisfied: cffi>=1.0 in c:\\users\\renat\\anaconda3\\lib\\site-packages (from soundfile>=0.10.2->librosa->noisereduce) (1.14.6)\n",
      "Requirement already satisfied: pycparser in c:\\users\\renat\\anaconda3\\lib\\site-packages (from cffi>=1.0->soundfile>=0.10.2->librosa->noisereduce) (2.20)\n",
      "Requirement already satisfied: kiwisolver>=1.0.1 in c:\\users\\renat\\anaconda3\\lib\\site-packages (from matplotlib->noisereduce) (1.3.1)\n",
      "Requirement already satisfied: python-dateutil>=2.7 in c:\\users\\renat\\anaconda3\\lib\\site-packages (from matplotlib->noisereduce) (2.8.2)\n",
      "Requirement already satisfied: pillow>=6.2.0 in c:\\users\\renat\\anaconda3\\lib\\site-packages (from matplotlib->noisereduce) (8.4.0)\n",
      "Requirement already satisfied: cycler>=0.10 in c:\\users\\renat\\anaconda3\\lib\\site-packages (from matplotlib->noisereduce) (0.10.0)\n",
      "Requirement already satisfied: colorama in c:\\users\\renat\\anaconda3\\lib\\site-packages (from tqdm->noisereduce) (0.4.4)\n",
      "Installing collected packages: noisereduce\n",
      "Successfully installed noisereduce-2.0.1\n"
     ]
    }
   ],
   "source": [
    "!pip install noisereduce"
   ]
  },
  {
   "cell_type": "code",
   "execution_count": 1,
   "metadata": {
    "id": "nP0J5bv78UY9"
   },
   "outputs": [
    {
     "name": "stderr",
     "output_type": "stream",
     "text": [
      "/Users/yirongx/opt/miniconda3/lib/python3.8/site-packages/pydub/utils.py:170: RuntimeWarning: Couldn't find ffmpeg or avconv - defaulting to ffmpeg, but may not work\n",
      "  warn(\"Couldn't find ffmpeg or avconv - defaulting to ffmpeg, but may not work\", RuntimeWarning)\n"
     ]
    }
   ],
   "source": [
    "import numpy as np\n",
    "import matplotlib.pyplot as plt\n",
    "import wave\n",
    "from scipy.io import wavfile\n",
    "import contextlib\n",
    "import glob\n",
    "import os \n",
    "from scipy.io import wavfile\n",
    "import noisereduce as nr\n",
    "import json\n",
    "from pydub import AudioSegment\n",
    "\n",
    "\n",
    "\n",
    "def interpret_wav(raw_bytes, n_frames, n_channels, sample_width, interleaved = True):\n",
    "\n",
    "    if sample_width == 1:\n",
    "        dtype = np.uint8 # unsigned char\n",
    "    elif sample_width == 2:\n",
    "        dtype = np.int16 # signed 2-byte short\n",
    "    else:\n",
    "        raise ValueError(\"Only supports 8 and 16 bit audio formats.\")\n",
    "\n",
    "    channels = np.frombuffer(raw_bytes, dtype=dtype)\n",
    "\n",
    "    if interleaved:\n",
    "        # channels are interleaved, i.e. sample N of channel M follows sample N of channel M-1 in raw data\n",
    "        channels.shape = (n_frames, n_channels)\n",
    "        channels = channels.T\n",
    "    else:\n",
    "        # channels are not interleaved. All samples from channel M occur before all samples from channel M-1\n",
    "        channels.shape = (n_channels, n_frames)\n",
    "\n",
    "    return channels\n",
    "\n",
    "def get_start_end_frames(nFrames, sampleRate, tStart=None, tEnd=None):\n",
    "\n",
    "    if tStart and tStart*sampleRate<nFrames:\n",
    "        start = tStart*sampleRate\n",
    "    else:\n",
    "        start = 0\n",
    "\n",
    "    if tEnd and tEnd*sampleRate<nFrames and tEnd*sampleRate>start:\n",
    "        end = tEnd*sampleRate\n",
    "    else:\n",
    "        end = nFrames\n",
    "\n",
    "    return (start,end,end-start)\n",
    "\n",
    "def extract_audio(fname, tStart=None, tEnd=None):\n",
    "    with contextlib.closing(wave.open(fname,'rb')) as spf:\n",
    "        sampleRate = spf.getframerate()\n",
    "        ampWidth = spf.getsampwidth()\n",
    "        nChannels = spf.getnchannels()\n",
    "        nFrames = spf.getnframes()\n",
    "\n",
    "        startFrame, endFrame, segFrames = get_start_end_frames(nFrames, sampleRate, tStart, tEnd)\n",
    "\n",
    "        # Extract Raw Audio from multi-channel Wav File\n",
    "        spf.setpos(startFrame)\n",
    "        sig = spf.readframes(segFrames)\n",
    "        spf.close()\n",
    "\n",
    "        channels = interpret_wav(sig, segFrames, nChannels, ampWidth, True)\n",
    "\n",
    "        return (channels, nChannels, sampleRate, ampWidth, nFrames)\n",
    "\n",
    "def convert_to_mono(channels, nChannels, outputType):\n",
    "    if nChannels == 2:\n",
    "        samples = np.mean(np.array([channels[0], channels[1]]), axis=0)  # Convert to mono\n",
    "    else:\n",
    "        samples = channels[0]\n",
    "\n",
    "    return samples.astype(outputType)\n",
    "\n",
    "def plot_specgram(samples, sampleRate, tStart=None, tEnd=None):\n",
    "    plt.figure(figsize=(20,10))\n",
    "    plt.specgram(samples, Fs=sampleRate, NFFT=1024, noverlap=192, cmap='nipy_spectral', xextent=(tStart,tEnd))\n",
    "    plt.ylabel('Frequency [Hz]')\n",
    "    plt.xlabel('Time [sec]')\n",
    "    plt.show()\n",
    "\n",
    "def plot_audio_samples(title, samples, sampleRate, tStart=None, tEnd=None):\n",
    "    if not tStart:\n",
    "        tStart = 0\n",
    "\n",
    "    if not tEnd or tStart>tEnd:\n",
    "        tEnd = len(samples)/sampleRate\n",
    "\n",
    "    f, axarr = plt.subplots(2, sharex=True, figsize=(20,10))\n",
    "    axarr[0].set_title(title)\n",
    "    axarr[0].plot(np.linspace(tStart, tEnd, len(samples)), samples)\n",
    "    axarr[1].specgram(samples, Fs=sampleRate, NFFT=1024, noverlap=192, cmap='nipy_spectral', xextent=(tStart,tEnd))\n",
    "    #get_specgram(axarr[1], samples, sampleRate, tStart, tEnd)\n",
    "\n",
    "    axarr[0].set_ylabel('Amplitude')\n",
    "    axarr[1].set_ylabel('Frequency [Hz]')\n",
    "    plt.xlabel('Time [sec]')\n",
    "    plt.savefig(title+'.jpg')\n",
    "    plt.show()\n",
    "\n"
   ]
  },
  {
   "cell_type": "code",
   "execution_count": 2,
   "metadata": {
    "id": "kwEUAK038iCL"
   },
   "outputs": [],
   "source": [
    "def fir_high_pass(samples, fs, fH, N, outputType):\n",
    "    # Referece: https://fiiir.com\n",
    "\n",
    "    fH = fH / fs\n",
    "\n",
    "    # Compute sinc filter.\n",
    "    h = np.sinc(2 * fH * (np.arange(N) - (N - 1) / 2.))\n",
    "    # Apply window.\n",
    "    h *= np.hamming(N)\n",
    "    # Normalize to get unity gain.\n",
    "    h /= np.sum(h)\n",
    "    # Create a high-pass filter from the low-pass filter through spectral inversion.\n",
    "    h = -h\n",
    "    h[int((N - 1) / 2)] += 1\n",
    "    # Applying the filter to a signal s can be as simple as writing\n",
    "    s = np.convolve(samples, h).astype(outputType)\n",
    "    return s\n",
    "\n",
    "\n",
    "def fir_low_pass(samples, fs, fL, N, outputType):\n",
    "    # Referece: https://fiiir.com\n",
    "\n",
    "    fL = fL / fs\n",
    "\n",
    "    # Compute sinc filter.\n",
    "    h = np.sinc(2 * fL * (np.arange(N) - (N - 1) / 2.))\n",
    "    # Apply window.\n",
    "    h *= np.hamming(N)\n",
    "    # Normalize to get unity gain.\n",
    "    h /= np.sum(h)\n",
    "    # Applying the filter to a signal s can be as simple as writing\n",
    "    s = np.convolve(samples, h).astype(outputType)\n",
    "    return s\n",
    "\n",
    "def fir_band_reject(samples, fs, fL, fH, NL, NH, outputType):\n",
    "    # Referece: https://fiiir.com\n",
    "\n",
    "    fH = fH / fs\n",
    "    fL = fL / fs\n",
    "\n",
    "    # Compute a low-pass filter with cutoff frequency fL.\n",
    "    hlpf = np.sinc(2 * fL * (np.arange(NL) - (NL - 1) / 2.))\n",
    "    hlpf *= np.blackman(NL)\n",
    "    hlpf /= np.sum(hlpf)\n",
    "    # Compute a high-pass filter with cutoff frequency fH.\n",
    "    hhpf = np.sinc(2 * fH * (np.arange(NH) - (NH - 1) / 2.))\n",
    "    hhpf *= np.blackman(NH)\n",
    "    hhpf /= np.sum(hhpf)\n",
    "    hhpf = -hhpf\n",
    "    hhpf[int((NH - 1) / 2)] += 1\n",
    "    # Add both filters.\n",
    "    if NH >= NL:\n",
    "        h = hhpf\n",
    "        h[int((NH - NL) / 2) : int((NH - NL) / 2 + NL)] += hlpf\n",
    "    else:\n",
    "        h = hlpf\n",
    "        h[int((NL - NH) / 2) : int((NL - NH) / 2 + NH)] += hhpf\n",
    "    # Applying the filter to a signal s can be as simple as writing\n",
    "    s = np.convolve(samples, h).astype(outputType)\n",
    "\n",
    "    return s\n",
    "\n",
    "def fir_band_pass(samples, fs, fL, fH, NL, NH, outputType):\n",
    "    # Referece: https://fiiir.com\n",
    "\n",
    "    fH = fH / fs\n",
    "    fL = fL / fs\n",
    "\n",
    "    # Compute a low-pass filter with cutoff frequency fH.\n",
    "    hlpf = np.sinc(2 * fH * (np.arange(NH) - (NH - 1) / 2.))\n",
    "    hlpf *= np.blackman(NH)\n",
    "    hlpf /= np.sum(hlpf)\n",
    "    # Compute a high-pass filter with cutoff frequency fL.\n",
    "    hhpf = np.sinc(2 * fL * (np.arange(NL) - (NL - 1) / 2.))\n",
    "    hhpf *= np.blackman(NL)\n",
    "    hhpf /= np.sum(hhpf)\n",
    "    hhpf = -hhpf\n",
    "    hhpf[int((NL - 1) / 2)] += 1\n",
    "    # Convolve both filters.\n",
    "    h = np.convolve(hlpf, hhpf)\n",
    "    # Applying the filter to a signal s can be as simple as writing\n",
    "    s = np.convolve(samples, h).astype(outputType)\n",
    "\n",
    "    return s\n"
   ]
  },
  {
   "cell_type": "markdown",
   "metadata": {
    "id": "mJF9tepq8rCc"
   },
   "source": [
    "# combine data function\n",
    "this is not mandatory to run following steps. just to reduce file number for each day to have better view."
   ]
  },
  {
   "cell_type": "code",
   "execution_count": 3,
   "metadata": {
    "id": "g5DDAcg49Bdp"
   },
   "outputs": [],
   "source": [
    "# combine data\n",
    "def combine(input_files,output_file):\n",
    "    output_music = AudioSegment.empty()\n",
    "    for f in input_files:\n",
    "        input_music = AudioSegment.from_wav(f)\n",
    "        output_music += input_music\n",
    "    if os.path.exists(os.path.split(output_file)[0]):\n",
    "        output_music.export(output_file, format=\"wav\")\n",
    "    else:\n",
    "        os.makedirs(os.path.split(output_file)[0])\n",
    "        output_music.export(output_file, format=\"wav\")"
   ]
  },
  {
   "cell_type": "markdown",
   "metadata": {
    "id": "Lr_z2iIz9WY4"
   },
   "source": [
    "# run combine step to your data\n",
    "combine each day's files into one file. \n",
    "\n",
    "**You should define channel and birdname here.**"
   ]
  },
  {
   "cell_type": "code",
   "execution_count": 10,
   "metadata": {
    "id": "h7RbtQde-kRS"
   },
   "outputs": [],
   "source": [
    "birdfolder = 'bird7292'\n",
    "channel = 'chan6'\n",
    "home_path = '/Volumes/RENATA_X/Vallentinlab'\n",
    "step = 4 ## for 5 days we use one day as sample data \n",
    "days = glob.glob(home_path+'/'+birdfolder+'/'+channel+'/*')\n",
    "dayinuse = [os.path.split(days[i])[1] for i in range(0,len(days),step)]"
   ]
  },
  {
   "cell_type": "code",
   "execution_count": 11,
   "metadata": {},
   "outputs": [],
   "source": [
    "dayinuse = np.loadtxt(home_path+'/'+birdfolder+'_sorted/dayinuse.txt',dtype='str')"
   ]
  },
  {
   "cell_type": "code",
   "execution_count": 7,
   "metadata": {},
   "outputs": [],
   "source": [
    "day_folder = [home_path+'/'+birdfolder+'/'+channel+'/'+day for day in dayinuse]\n",
    "for day in day_folder[3:]:\n",
    "    day_index = os.path.split(day)[-1]\n",
    "    combine(glob.glob(day+'/*.wav'),home_path+'/'+birdfolder+'_sorted/'+channel+'/'+day_index+'.wav')"
   ]
  },
  {
   "cell_type": "markdown",
   "metadata": {
    "id": "tMVJK-8QAQ4o"
   },
   "source": [
    "# denoise and filter\n",
    "filter the recording use 1kHz-12kHz, then denoise the data. "
   ]
  },
  {
   "cell_type": "code",
   "execution_count": 28,
   "metadata": {
    "id": "Yj_NJbhUAiJo"
   },
   "outputs": [
    {
     "name": "stdout",
     "output_type": "stream",
     "text": [
      "/Volumes/Yirong_work/Vallentinlab/bird7292_sorted/chan6/dph077.wav\n",
      "/Volumes/Yirong_work/Vallentinlab/bird7292_sorted/chan6/dph081.wav\n",
      "/Volumes/Yirong_work/Vallentinlab/bird7292_sorted/chan6/dph085.wav\n",
      "/Volumes/Yirong_work/Vallentinlab/bird7292_sorted/chan6/dph091.wav\n"
     ]
    }
   ],
   "source": [
    "width_kernel = 500\n",
    "\n",
    "for day in dayinuse[-4:]:\n",
    "    wav_file = home_path+'/'+birdfolder+'_sorted/'+channel+'/%s.wav'%day\n",
    "    channels, nChannels, sampleRate, ampWidth, nFrames = extract_audio(wav_file)\n",
    "    samples = convert_to_mono(channels, nChannels, np.int16)\n",
    "    print(wav_file)\n",
    "    samples_filtered = fir_band_pass(samples, sampleRate, 1000, 12000, width_kernel, width_kernel, np.int16)[width_kernel-1:-width_kernel+1]\n",
    "    \n",
    "    reduced_noise = nr.reduce_noise(y=samples_filtered, sr=sampleRate)\n",
    "    # perform noise reduction\n",
    "    folder,fname = os.path.split(wav_file)\n",
    "    \n",
    "    wavfile.write(os.path.join(home_path+'/'+birdfolder+'_sorted/'+channel+'/',os.path.splitext(fname)[0] + '_filter_denoised.wav'), sampleRate, reduced_noise)"
   ]
  },
  {
   "cell_type": "markdown",
   "metadata": {},
   "source": [
    "# sample data"
   ]
  },
  {
   "cell_type": "code",
   "execution_count": 12,
   "metadata": {
    "id": "wuXYTQITA36_"
   },
   "outputs": [],
   "source": [
    "\n",
    "for ori_file in glob.glob(home_path+'/'+birdfolder+'_sorted/'+channel+'/*_filter_denoised.wav'):\n",
    "    channels, nChannels, sampleRate, ampWidth, nFrames = extract_audio(ori_file,0,180)\n",
    "    samples = convert_to_mono(channels, nChannels, np.int16)\n",
    "    wavfile.write(os.path.splitext(ori_file)[0]+'_sampled0.wav', sampleRate, samples)\n"
   ]
  }
 ],
 "metadata": {
  "colab": {
   "name": "step1_filter&denoise.ipynb",
   "provenance": []
  },
  "kernelspec": {
   "display_name": "Python 3",
   "language": "python",
   "name": "python3"
  },
  "language_info": {
   "codemirror_mode": {
    "name": "ipython",
    "version": 3
   },
   "file_extension": ".py",
   "mimetype": "text/x-python",
   "name": "python",
   "nbconvert_exporter": "python",
   "pygments_lexer": "ipython3",
   "version": "3.8.12"
  }
 },
 "nbformat": 4,
 "nbformat_minor": 1
}
